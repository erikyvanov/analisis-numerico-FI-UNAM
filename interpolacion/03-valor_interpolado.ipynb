{
 "cells": [
  {
   "cell_type": "code",
   "execution_count": 1,
   "metadata": {},
   "outputs": [],
   "source": [
    "from sympy import zeros\n",
    "from IPython.display import display"
   ]
  },
  {
   "cell_type": "code",
   "execution_count": 2,
   "metadata": {},
   "outputs": [],
   "source": [
    "n = 5\n",
    "a = 4\n",
    "\n",
    "x = [2,3,5,7,9]\n",
    "y = [-5, 10, -11, 14, 20]"
   ]
  },
  {
   "cell_type": "code",
   "execution_count": 3,
   "metadata": {},
   "outputs": [
    {
     "data": {
      "text/latex": [
       "$\\displaystyle \\left[\\begin{matrix}-5.0 & 0 & 0 & 0 & 0\\\\10.0 & -25.0 & 0 & 0 & 0\\\\-11.0 & 0.5 & 8.0 & 0 & 0\\\\14.0 & 23.5 & -6.25 & -2.3 & 0\\\\20.0 & -5.0 & -30.625 & 10.3125 & -1.30357142857143\\end{matrix}\\right]$"
      ],
      "text/plain": [
       "Matrix([\n",
       "[ -5.0,     0,       0,       0,                 0],\n",
       "[ 10.0, -25.0,       0,       0,                 0],\n",
       "[-11.0,   0.5,     8.0,       0,                 0],\n",
       "[ 14.0,  23.5,   -6.25,    -2.3,                 0],\n",
       "[ 20.0,  -5.0, -30.625, 10.3125, -1.30357142857143]])"
      ]
     },
     "execution_count": 3,
     "metadata": {},
     "output_type": "execute_result"
    }
   ],
   "source": [
    "M = zeros(n)\n",
    "\n",
    "for i in range(0,n):\n",
    "    M[i, 0] = y[i]\n",
    "    \n",
    "for i in range(1,n):\n",
    "    for j in range(i,n):\n",
    "        M[j, i] = ((x[j - i] - a) * M[j, i-1] - M[j-1, i-1] * (x[j] - a))/(x[j]-x[j-i])\n",
    "\n",
    "M.evalf()"
   ]
  },
  {
   "cell_type": "code",
   "execution_count": 4,
   "metadata": {},
   "outputs": [
    {
     "data": {
      "text/latex": [
       "$\\displaystyle -1.30357142857143$"
      ],
      "text/plain": [
       "-1.30357142857143"
      ]
     },
     "metadata": {},
     "output_type": "display_data"
    }
   ],
   "source": [
    "display(M[n-1, n-1].evalf())"
   ]
  },
  {
   "cell_type": "code",
   "execution_count": null,
   "metadata": {},
   "outputs": [],
   "source": []
  }
 ],
 "metadata": {
  "interpreter": {
   "hash": "5dc98add9362633c78f256d17cf2fa232ed7c0ea4d489e75b6c174129bc88790"
  },
  "kernelspec": {
   "display_name": "Python 3.9.7 ('base')",
   "language": "python",
   "name": "python3"
  },
  "language_info": {
   "codemirror_mode": {
    "name": "ipython",
    "version": 3
   },
   "file_extension": ".py",
   "mimetype": "text/x-python",
   "name": "python",
   "nbconvert_exporter": "python",
   "pygments_lexer": "ipython3",
   "version": "3.9.7"
  },
  "orig_nbformat": 4
 },
 "nbformat": 4,
 "nbformat_minor": 2
}
