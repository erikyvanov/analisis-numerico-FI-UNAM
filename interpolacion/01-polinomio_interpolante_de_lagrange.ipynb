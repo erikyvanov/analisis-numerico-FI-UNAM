{
 "cells": [
  {
   "cell_type": "code",
   "execution_count": 1,
   "metadata": {},
   "outputs": [],
   "source": [
    "from sympy import IndexedBase, expand\n",
    "from sympy.abc import r\n",
    "from sympy.plotting import plot\n",
    "import math\n",
    "from IPython.display import display"
   ]
  },
  {
   "cell_type": "code",
   "execution_count": 2,
   "metadata": {},
   "outputs": [],
   "source": [
    "n = 5\n",
    "\n",
    "# Para obtener el polinomio de forma simbolica\n",
    "#x = IndexedBase('x')\n",
    "#y = IndexedBase('y')\n",
    "\n",
    "x = [2,3,5,7,9]\n",
    "y = [-5, 10, -11, 14, 20]"
   ]
  },
  {
   "cell_type": "code",
   "execution_count": 3,
   "metadata": {},
   "outputs": [
    {
     "data": {
      "text/latex": [
       "$\\displaystyle \\frac{\\left(r - 9\\right) \\left(r - 7\\right) \\left(r - 5\\right) \\left(r - 3\\right)}{105}$"
      ],
      "text/plain": [
       "(r - 9)*(r - 7)*(r - 5)*(r - 3)/105"
      ]
     },
     "metadata": {},
     "output_type": "display_data"
    },
    {
     "data": {
      "text/latex": [
       "$\\displaystyle - \\frac{\\left(r - 9\\right) \\left(r - 7\\right) \\left(r - 5\\right) \\left(r - 2\\right)}{48}$"
      ],
      "text/plain": [
       "-(r - 9)*(r - 7)*(r - 5)*(r - 2)/48"
      ]
     },
     "metadata": {},
     "output_type": "display_data"
    },
    {
     "data": {
      "text/latex": [
       "$\\displaystyle \\frac{\\left(r - 9\\right) \\left(r - 7\\right) \\left(r - 3\\right) \\left(r - 2\\right)}{48}$"
      ],
      "text/plain": [
       "(r - 9)*(r - 7)*(r - 3)*(r - 2)/48"
      ]
     },
     "metadata": {},
     "output_type": "display_data"
    },
    {
     "data": {
      "text/latex": [
       "$\\displaystyle - \\frac{\\left(r - 9\\right) \\left(r - 5\\right) \\left(r - 3\\right) \\left(r - 2\\right)}{80}$"
      ],
      "text/plain": [
       "-(r - 9)*(r - 5)*(r - 3)*(r - 2)/80"
      ]
     },
     "metadata": {},
     "output_type": "display_data"
    },
    {
     "data": {
      "text/latex": [
       "$\\displaystyle \\frac{\\left(r - 7\\right) \\left(r - 5\\right) \\left(r - 3\\right) \\left(r - 2\\right)}{336}$"
      ],
      "text/plain": [
       "(r - 7)*(r - 5)*(r - 3)*(r - 2)/336"
      ]
     },
     "metadata": {},
     "output_type": "display_data"
    }
   ],
   "source": [
    "L = {}\n",
    "\n",
    "for j in range(n):\n",
    "    L[j] = math.prod([(r - x[i]) for i in range(j)]) * math.prod([(r - x[i]) for i in range(j+1, n)]) / (math.prod([(x[j] - x[i]) for i in range(j)]) * math.prod([(x[j] - x[i]) for i in range(j+1, n)]))\n",
    "    display(L[j])"
   ]
  },
  {
   "cell_type": "code",
   "execution_count": 4,
   "metadata": {},
   "outputs": [
    {
     "data": {
      "text/latex": [
       "$\\displaystyle - \\frac{1009 r^{4}}{1680} + \\frac{21941 r^{3}}{1680} - \\frac{164069 r^{2}}{1680} + \\frac{494251 r}{1680} - \\frac{2381}{8}$"
      ],
      "text/plain": [
       "-1009*r**4/1680 + 21941*r**3/1680 - 164069*r**2/1680 + 494251*r/1680 - 2381/8"
      ]
     },
     "execution_count": 4,
     "metadata": {},
     "output_type": "execute_result"
    }
   ],
   "source": [
    "f = expand(sum([L[u] * y[u] for u in range(n)]))\n",
    "f"
   ]
  },
  {
   "cell_type": "code",
   "execution_count": 5,
   "metadata": {},
   "outputs": [
    {
     "data": {
      "text/latex": [
       "$\\displaystyle 20$"
      ],
      "text/plain": [
       "20"
      ]
     },
     "execution_count": 5,
     "metadata": {},
     "output_type": "execute_result"
    }
   ],
   "source": [
    "# el valor cuando el polinomio vale 4\n",
    "a = 9\n",
    "f.subs(r, a)"
   ]
  },
  {
   "cell_type": "code",
   "execution_count": 6,
   "metadata": {},
   "outputs": [
    {
     "data": {
      "text/plain": [
       "[<matplotlib.lines.Line2D at 0x7f21740df700>]"
      ]
     },
     "execution_count": 6,
     "metadata": {},
     "output_type": "execute_result"
    },
    {
     "data": {
      "image/png": "[encoded data removed]",
      "text/plain": [
       "<Figure size 432x288 with 1 Axes>"
      ]
     },
     "metadata": {
      "needs_background": "light"
     },
     "output_type": "display_data"
    }
   ],
   "source": [
    "import matplotlib.pyplot as plt\n",
    "plt.plot(x, y)"
   ]
  },
  {
   "cell_type": "code",
   "execution_count": 7,
   "metadata": {},
   "outputs": [
    {
     "data": {
      "image/png": "[encoded data removed]",
      "text/plain": [
       "<Figure size 432x288 with 1 Axes>"
      ]
     },
     "metadata": {
      "needs_background": "light"
     },
     "output_type": "display_data"
    },
    {
     "data": {
      "text/plain": [
       "<sympy.plotting.plot.Plot at 0x7f2186bf3cd0>"
      ]
     },
     "execution_count": 7,
     "metadata": {},
     "output_type": "execute_result"
    }
   ],
   "source": [
    "plot(f, (r, 2, 9))"
   ]
  },
  {
   "cell_type": "code",
   "execution_count": null,
   "metadata": {},
   "outputs": [],
   "source": []
  }
 ],
 "metadata": {
  "interpreter": {
   "hash": "5dc98add9362633c78f256d17cf2fa232ed7c0ea4d489e75b6c174129bc88790"
  },
  "kernelspec": {
   "display_name": "Python 3.9.7 ('base')",
   "language": "python",
   "name": "python3"
  },
  "language_info": {
   "codemirror_mode": {
    "name": "ipython",
    "version": 3
   },
   "file_extension": ".py",
   "mimetype": "text/x-python",
   "name": "python",
   "nbconvert_exporter": "python",
   "pygments_lexer": "ipython3",
   "version": "3.9.7"
  },
  "orig_nbformat": 4
 },
 "nbformat": 4,
 "nbformat_minor": 2
}
