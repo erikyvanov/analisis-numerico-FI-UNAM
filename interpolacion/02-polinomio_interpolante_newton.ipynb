{
 "cells": [
  {
   "cell_type": "code",
   "execution_count": 1,
   "metadata": {},
   "outputs": [],
   "source": [
    "from sympy import zeros, expand, plot\n",
    "from sympy.abc import r\n",
    "import math"
   ]
  },
  {
   "cell_type": "code",
   "execution_count": 2,
   "metadata": {},
   "outputs": [],
   "source": [
    "n = 5\n",
    "\n",
    "x = [2,3,5,7,9]\n",
    "y = [-5, 10, -11, 14, 20]"
   ]
  },
  {
   "cell_type": "code",
   "execution_count": 3,
   "metadata": {},
   "outputs": [
    {
     "data": {
      "text/latex": [
       "$\\displaystyle \\left[\\begin{matrix}-5 & 0 & 0 & 0 & 0\\\\10 & 15 & 0 & 0 & 0\\\\-11 & - \\frac{21}{2} & - \\frac{17}{2} & 0 & 0\\\\14 & \\frac{25}{2} & \\frac{23}{4} & \\frac{57}{20} & 0\\\\20 & 3 & - \\frac{19}{8} & - \\frac{65}{48} & - \\frac{1009}{1680}\\end{matrix}\\right]$"
      ],
      "text/plain": [
       "Matrix([\n",
       "[ -5,     0,     0,      0,          0],\n",
       "[ 10,    15,     0,      0,          0],\n",
       "[-11, -21/2, -17/2,      0,          0],\n",
       "[ 14,  25/2,  23/4,  57/20,          0],\n",
       "[ 20,     3, -19/8, -65/48, -1009/1680]])"
      ]
     },
     "execution_count": 3,
     "metadata": {},
     "output_type": "execute_result"
    }
   ],
   "source": [
    "M = zeros(n)\n",
    "\n",
    "for i in range(0,n):\n",
    "    M[i, 0] = y[i]\n",
    "    \n",
    "    for j in range(1,n):\n",
    "        for i in range(j,n):\n",
    "            M[i, j] = (M[i, j-1] - M[i-1, j-1])/(x[i]-x[i-j])\n",
    "\n",
    "M"
   ]
  },
  {
   "cell_type": "code",
   "execution_count": 4,
   "metadata": {},
   "outputs": [
    {
     "data": {
      "text/latex": [
       "$\\displaystyle - \\frac{1009 r^{4}}{1680} + \\frac{21941 r^{3}}{1680} - \\frac{164069 r^{2}}{1680} + \\frac{494251 r}{1680} - \\frac{2381}{8}$"
      ],
      "text/plain": [
       "-1009*r**4/1680 + 21941*r**3/1680 - 164069*r**2/1680 + 494251*r/1680 - 2381/8"
      ]
     },
     "execution_count": 4,
     "metadata": {},
     "output_type": "execute_result"
    }
   ],
   "source": [
    "f = expand(sum([M[u,u]*math.prod([r-x[s] for s in range(u)]) for u in range(n)]))\n",
    "f"
   ]
  },
  {
   "cell_type": "code",
   "execution_count": 5,
   "metadata": {},
   "outputs": [
    {
     "data": {
      "image/png": "[encoded data removed]",
      "text/plain": [
       "<Figure size 432x288 with 1 Axes>"
      ]
     },
     "metadata": {
      "needs_background": "light"
     },
     "output_type": "display_data"
    },
    {
     "data": {
      "text/plain": [
       "<sympy.plotting.plot.Plot at 0x7f9ce5609250>"
      ]
     },
     "execution_count": 5,
     "metadata": {},
     "output_type": "execute_result"
    }
   ],
   "source": [
    "plot(f, (r, 2, 9))"
   ]
  },
  {
   "cell_type": "code",
   "execution_count": null,
   "metadata": {},
   "outputs": [],
   "source": []
  }
 ],
 "metadata": {
  "interpreter": {
   "hash": "5dc98add9362633c78f256d17cf2fa232ed7c0ea4d489e75b6c174129bc88790"
  },
  "kernelspec": {
   "display_name": "Python 3.9.7 ('base')",
   "language": "python",
   "name": "python3"
  },
  "language_info": {
   "codemirror_mode": {
    "name": "ipython",
    "version": 3
   },
   "file_extension": ".py",
   "mimetype": "text/x-python",
   "name": "python",
   "nbconvert_exporter": "python",
   "pygments_lexer": "ipython3",
   "version": "3.9.7"
  },
  "orig_nbformat": 4
 },
 "nbformat": 4,
 "nbformat_minor": 2
}
