{
 "cells": [
  {
   "cell_type": "markdown",
   "metadata": {},
   "source": [
    "### Encuentra el valor caracteristico mayor en valor absoluto"
   ]
  },
  {
   "cell_type": "code",
   "execution_count": 1,
   "metadata": {},
   "outputs": [],
   "source": [
    "from sympy import Matrix, Abs, sqrt\n",
    "from IPython.display import display"
   ]
  },
  {
   "cell_type": "code",
   "execution_count": 2,
   "metadata": {},
   "outputs": [],
   "source": [
    "n = 3"
   ]
  },
  {
   "cell_type": "code",
   "execution_count": 3,
   "metadata": {},
   "outputs": [
    {
     "data": {
      "text/latex": [
       "$\\displaystyle \\left[\\begin{matrix}5 & -2 & 0\\\\-2 & 3 & -1\\\\0 & -1 & 1\\end{matrix}\\right]$"
      ],
      "text/plain": [
       "Matrix([\n",
       "[ 5, -2,  0],\n",
       "[-2,  3, -1],\n",
       "[ 0, -1,  1]])"
      ]
     },
     "execution_count": 3,
     "metadata": {},
     "output_type": "execute_result"
    }
   ],
   "source": [
    "A = Matrix(n, n, [5, -2, 0, -2, 3, -1, 0, -1, 1])\n",
    "A"
   ]
  },
  {
   "cell_type": "code",
   "execution_count": 4,
   "metadata": {},
   "outputs": [
    {
     "data": {
      "text/latex": [
       "$\\displaystyle \\left[\\begin{matrix}0.254\\\\-0.996\\\\0.125\\end{matrix}\\right]$"
      ],
      "text/plain": [
       "Matrix([\n",
       "[ 0.254],\n",
       "[-0.996],\n",
       "[ 0.125]])"
      ]
     },
     "execution_count": 4,
     "metadata": {},
     "output_type": "execute_result"
    }
   ],
   "source": [
    "x = Matrix([0.254, -0.996, 0.125])\n",
    "x"
   ]
  },
  {
   "cell_type": "code",
   "execution_count": 5,
   "metadata": {},
   "outputs": [],
   "source": [
    "iterations = 1000\n",
    "tol = 1*10**(-8)"
   ]
  },
  {
   "cell_type": "code",
   "execution_count": 6,
   "metadata": {},
   "outputs": [
    {
     "name": "stdout",
     "output_type": "stream",
     "text": [
      "El valor caracteristico buscado es:\n"
     ]
    },
    {
     "data": {
      "text/latex": [
       "$\\displaystyle 6.28994510849866$"
      ],
      "text/plain": [
       "6.28994510849866"
      ]
     },
     "metadata": {},
     "output_type": "display_data"
    }
   ],
   "source": [
    "for _ in range(iterations):\n",
    "    y = A * x\n",
    "\n",
    "    maxy = y[0] \n",
    "    for i in range(1, n):\n",
    "        if Abs(y[i]) > Abs(maxy):\n",
    "            maxy = y[i]\n",
    "\n",
    "    y = (1/maxy) * y\n",
    "\n",
    "    Erry = sqrt(sum([(x[u] - y[u])**2 for u in range(n)]))\n",
    "    Erry\n",
    "\n",
    "    if Erry < tol:\n",
    "        print(\"El valor caracteristico buscado es:\")\n",
    "        display(maxy)\n",
    "        break\n",
    "    else:\n",
    "        x = y.copy()"
   ]
  },
  {
   "cell_type": "code",
   "execution_count": 7,
   "metadata": {},
   "outputs": [
    {
     "data": {
      "text/plain": [
       "{6.28994508293748 - 0.e-21*I: 1,\n",
       " 0.415774556783479 + 0.e-22*I: 1,\n",
       " 2.29428036027904 + 0.e-20*I: 1}"
      ]
     },
     "execution_count": 7,
     "metadata": {},
     "output_type": "execute_result"
    }
   ],
   "source": [
    "{k.evalf(): v for k, v in A.eigenvals().items()}"
   ]
  },
  {
   "cell_type": "code",
   "execution_count": null,
   "metadata": {},
   "outputs": [],
   "source": []
  }
 ],
 "metadata": {
  "interpreter": {
   "hash": "5dc98add9362633c78f256d17cf2fa232ed7c0ea4d489e75b6c174129bc88790"
  },
  "kernelspec": {
   "display_name": "Python 3.9.7 ('base')",
   "language": "python",
   "name": "python3"
  },
  "language_info": {
   "codemirror_mode": {
    "name": "ipython",
    "version": 3
   },
   "file_extension": ".py",
   "mimetype": "text/x-python",
   "name": "python",
   "nbconvert_exporter": "python",
   "pygments_lexer": "ipython3",
   "version": "3.9.7"
  },
  "orig_nbformat": 4
 },
 "nbformat": 4,
 "nbformat_minor": 2
}
