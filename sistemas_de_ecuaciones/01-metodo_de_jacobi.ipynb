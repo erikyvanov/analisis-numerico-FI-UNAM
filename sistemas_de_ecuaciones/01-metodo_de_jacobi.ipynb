{
 "cells": [
  {
   "cell_type": "markdown",
   "metadata": {},
   "source": [
    "# Metodo de Jacobi\n",
    "Necesita que tengan diagonal principal dominante"
   ]
  },
  {
   "cell_type": "code",
   "execution_count": 10,
   "metadata": {},
   "outputs": [],
   "source": [
    "from sympy import Matrix, Abs, Symbol, Eq, solve\n",
    "from math import dist"
   ]
  },
  {
   "cell_type": "code",
   "execution_count": 11,
   "metadata": {},
   "outputs": [
    {
     "data": {
      "text/plain": [
       "[x0, x1, x2]"
      ]
     },
     "execution_count": 11,
     "metadata": {},
     "output_type": "execute_result"
    }
   ],
   "source": [
    "xs = [Symbol(f'x{i}') for i in range(3)]\n",
    "xs"
   ]
  },
  {
   "cell_type": "code",
   "execution_count": 12,
   "metadata": {},
   "outputs": [
    {
     "data": {
      "text/latex": [
       "$\\displaystyle \\left[\\begin{matrix}7 & 14 & 3\\\\24 & 1 & 5\\\\-50 & 3 & -3\\end{matrix}\\right]$"
      ],
      "text/plain": [
       "Matrix([\n",
       "[  7, 14,  3],\n",
       "[ 24,  1,  5],\n",
       "[-50,  3, -3]])"
      ]
     },
     "execution_count": 12,
     "metadata": {},
     "output_type": "execute_result"
    }
   ],
   "source": [
    "A = Matrix([[7, 14, 3], [24, 1, 5], [-50, 3, -3]])\n",
    "A"
   ]
  },
  {
   "cell_type": "code",
   "execution_count": 13,
   "metadata": {},
   "outputs": [
    {
     "data": {
      "text/latex": [
       "$\\displaystyle \\left[\\begin{matrix}-21\\\\14\\\\-1\\end{matrix}\\right]$"
      ],
      "text/plain": [
       "Matrix([\n",
       "[-21],\n",
       "[ 14],\n",
       "[ -1]])"
      ]
     },
     "execution_count": 13,
     "metadata": {},
     "output_type": "execute_result"
    }
   ],
   "source": [
    "b = Matrix([-21, 14, -1])\n",
    "b"
   ]
  },
  {
   "cell_type": "code",
   "execution_count": 14,
   "metadata": {},
   "outputs": [
    {
     "data": {
      "text/latex": [
       "$\\displaystyle \\left[\\begin{matrix}7 & 14 & 3 & -21\\\\24 & 1 & 5 & 14\\\\-50 & 3 & -3 & -1\\end{matrix}\\right]$"
      ],
      "text/plain": [
       "Matrix([\n",
       "[  7, 14,  3, -21],\n",
       "[ 24,  1,  5,  14],\n",
       "[-50,  3, -3,  -1]])"
      ]
     },
     "execution_count": 14,
     "metadata": {},
     "output_type": "execute_result"
    }
   ],
   "source": [
    "B = A.col_insert(3, b)\n",
    "B"
   ]
  },
  {
   "cell_type": "code",
   "execution_count": 15,
   "metadata": {},
   "outputs": [],
   "source": [
    "def pasar_a_diagonal_dominante(matrix: Matrix):\n",
    "    m = matrix.copy()\n",
    "    n = matrix.shape[0]\n",
    "    for i in range(n):\n",
    "        maxy = m[i, i]\n",
    "        for j in range(n):\n",
    "            if Abs(maxy) < Abs(m[i, j]):\n",
    "                m.row_swap(i, j)\n",
    "\n",
    "    return m"
   ]
  },
  {
   "cell_type": "code",
   "execution_count": 16,
   "metadata": {},
   "outputs": [
    {
     "data": {
      "text/latex": [
       "$\\displaystyle \\left[\\begin{matrix}-50 & 3 & -3 & -1\\\\7 & 14 & 3 & -21\\\\24 & 1 & 5 & 14\\end{matrix}\\right]$"
      ],
      "text/plain": [
       "Matrix([\n",
       "[-50,  3, -3,  -1],\n",
       "[  7, 14,  3, -21],\n",
       "[ 24,  1,  5,  14]])"
      ]
     },
     "execution_count": 16,
     "metadata": {},
     "output_type": "execute_result"
    }
   ],
   "source": [
    "B = pasar_a_diagonal_dominante(B)\n",
    "B"
   ]
  },
  {
   "cell_type": "code",
   "execution_count": 17,
   "metadata": {},
   "outputs": [],
   "source": [
    "def convertir_matriz_a_ecuaciones(m: Matrix):\n",
    "    ecus = []\n",
    "    for i in range(m.shape[0]):\n",
    "        ecu = 0\n",
    "        for j in range(m.shape[1] - 1):\n",
    "            ecu += m[i, j] * xs[j]\n",
    "        \n",
    "        ecus.append(Eq(m.row(i)[-1], ecu))\n",
    "\n",
    "    return ecus"
   ]
  },
  {
   "cell_type": "code",
   "execution_count": 18,
   "metadata": {},
   "outputs": [
    {
     "data": {
      "text/plain": [
       "[Eq(-1, -50*x0 + 3*x1 - 3*x2),\n",
       " Eq(-21, 7*x0 + 14*x1 + 3*x2),\n",
       " Eq(14, 24*x0 + x1 + 5*x2)]"
      ]
     },
     "execution_count": 18,
     "metadata": {},
     "output_type": "execute_result"
    }
   ],
   "source": [
    "ecus = convertir_matriz_a_ecuaciones(B)\n",
    "ecus"
   ]
  },
  {
   "cell_type": "code",
   "execution_count": 19,
   "metadata": {},
   "outputs": [
    {
     "data": {
      "text/plain": [
       "[3*x1/50 - 3*x2/50 + 1/50, -x0/2 - 3*x2/14 - 3/2, -24*x0/5 - x1/5 + 14/5]"
      ]
     },
     "execution_count": 19,
     "metadata": {},
     "output_type": "execute_result"
    }
   ],
   "source": [
    "rs = [solve(ecus[i], xs[i])[0] for i in range(len(xs))]\n",
    "rs"
   ]
  },
  {
   "cell_type": "code",
   "execution_count": 20,
   "metadata": {},
   "outputs": [],
   "source": [
    "def obtener_norma(v1: list, v2: list):\n",
    "    return dist(v1, v2)\n",
    "    "
   ]
  },
  {
   "cell_type": "code",
   "execution_count": 21,
   "metadata": {},
   "outputs": [
    {
     "name": "stdout",
     "output_type": "stream",
     "text": [
      "3.1765389970847204\n",
      "0.6930223661614393\n",
      "1.3639454383006764\n",
      "0.35276689919687726\n",
      "0.42173713056474904\n",
      "0.16221592743570162\n",
      "0.14035673861300843\n",
      "0.0705066703528219\n",
      "0.05075902236501333\n",
      "0.02889892008768277\n",
      "0.01916345974337685\n",
      "0.011513075572712247\n",
      "0.007373070109860776\n",
      "0.0045308251135212484\n",
      "0.002859514790135974\n",
      "0.0017738724889456655\n",
      "0.0011127256602732826\n",
      "0.0006929950442956781\n",
      "0.000433600722210403\n",
      "0.00027048702134599195\n",
      "0.00016906154539034397\n",
      "0.00010553569315405358\n",
      "6.593336110806036e-05\n",
      "4.1170309417393746e-05\n",
      "2.5716368159904586e-05\n",
      "1.605981171730037e-05\n",
      "1.0030727413861093e-05\n",
      "6.264478146993522e-06\n",
      "3.9125769287514976e-06\n",
      "2.4435678092040026e-06\n",
      "1.5261476406477364e-06\n",
      "9.531512584263115e-07\n",
      "5.952940544776914e-07\n",
      "3.717905899430129e-07\n",
      "2.3220260957729702e-07\n",
      "1.4502223785899856e-07\n",
      "9.057386111656264e-08\n",
      "5.656797867917309e-08\n",
      "3.5329603139912196e-08\n",
      "2.206513801545218e-08\n",
      "1.378080811218401e-08\n",
      "8.606817847337793e-09\n",
      "La solucion del sistema es:\n",
      "x0=-0.4551509742608594 x1=-2.4453818773068416 x2=5.473801043614096 "
     ]
    }
   ],
   "source": [
    "# Inicia el metodo iterativo\n",
    "iterations = 1000\n",
    "tol = 1*10**-8\n",
    "a = [0, 0, 0]\n",
    "n = len(rs)\n",
    "rrs = [rs[i] for i in range(n)]\n",
    "\n",
    "for k in range(iterations):\n",
    "    for i in range(n):\n",
    "        rrs[i] = rs[i]\n",
    "        for j in range(n):\n",
    "            rrs[i] = rrs[i].subs(xs[j], a[j])\n",
    "\n",
    "    erry = obtener_norma(a, rrs)\n",
    "    print(erry)\n",
    "    if erry < tol:\n",
    "        print(\"La solucion del sistema es:\")\n",
    "        for i in range(n):\n",
    "            print(f\"x{i}={float(a[i])} \", end=\"\")\n",
    "        break\n",
    "    else:\n",
    "        a = [i for i in rrs]"
   ]
  },
  {
   "cell_type": "code",
   "execution_count": null,
   "metadata": {},
   "outputs": [],
   "source": []
  }
 ],
 "metadata": {
  "interpreter": {
   "hash": "4ee8fccf1b91b16c3ceb7dad7504d1ede7c68a00d690c5afe8b46617fe103163"
  },
  "kernelspec": {
   "display_name": "Python 3.9.7 ('base')",
   "language": "python",
   "name": "python3"
  },
  "language_info": {
   "codemirror_mode": {
    "name": "ipython",
    "version": 3
   },
   "file_extension": ".py",
   "mimetype": "text/x-python",
   "name": "python",
   "nbconvert_exporter": "python",
   "pygments_lexer": "ipython3",
   "version": "3.9.7"
  },
  "orig_nbformat": 4
 },
 "nbformat": 4,
 "nbformat_minor": 2
}
