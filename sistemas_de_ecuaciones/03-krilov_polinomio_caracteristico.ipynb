{
 "cells": [
  {
   "cell_type": "code",
   "execution_count": 1,
   "metadata": {},
   "outputs": [],
   "source": [
    "from sympy import Matrix\n",
    "from sympy.abc import lamda\n",
    "from IPython.display import display\n",
    "\n",
    "from gauss_utils import gausselim, backsubs"
   ]
  },
  {
   "cell_type": "code",
   "execution_count": 2,
   "metadata": {},
   "outputs": [],
   "source": [
    "n = 3"
   ]
  },
  {
   "cell_type": "code",
   "execution_count": 3,
   "metadata": {},
   "outputs": [
    {
     "data": {
      "text/latex": [
       "$\\displaystyle \\left[\\begin{matrix}5 & -2 & 0\\\\-2 & 3 & -1\\\\0 & -1 & 1\\end{matrix}\\right]$"
      ],
      "text/plain": [
       "Matrix([\n",
       "[ 5, -2,  0],\n",
       "[-2,  3, -1],\n",
       "[ 0, -1,  1]])"
      ]
     },
     "execution_count": 3,
     "metadata": {},
     "output_type": "execute_result"
    }
   ],
   "source": [
    "A = Matrix(n, n, [5, -2, 0, -2, 3, -1, 0, -1, 1])\n",
    "A"
   ]
  },
  {
   "cell_type": "code",
   "execution_count": 4,
   "metadata": {},
   "outputs": [
    {
     "data": {
      "text/latex": [
       "$\\displaystyle \\left[\\begin{matrix}2\\\\5\\\\12\\end{matrix}\\right]$"
      ],
      "text/plain": [
       "Matrix([\n",
       "[ 2],\n",
       "[ 5],\n",
       "[12]])"
      ]
     },
     "execution_count": 4,
     "metadata": {},
     "output_type": "execute_result"
    }
   ],
   "source": [
    "v = {0: Matrix([2, 5, 12])}\n",
    "v[0]"
   ]
  },
  {
   "cell_type": "code",
   "execution_count": 5,
   "metadata": {},
   "outputs": [
    {
     "data": {
      "text/latex": [
       "$\\displaystyle \\left[\\begin{matrix}0\\\\-1\\\\7\\end{matrix}\\right]$"
      ],
      "text/plain": [
       "Matrix([\n",
       "[ 0],\n",
       "[-1],\n",
       "[ 7]])"
      ]
     },
     "metadata": {},
     "output_type": "display_data"
    },
    {
     "data": {
      "text/latex": [
       "$\\displaystyle \\left[\\begin{matrix}2\\\\-10\\\\8\\end{matrix}\\right]$"
      ],
      "text/plain": [
       "Matrix([\n",
       "[  2],\n",
       "[-10],\n",
       "[  8]])"
      ]
     },
     "metadata": {},
     "output_type": "display_data"
    },
    {
     "data": {
      "text/latex": [
       "$\\displaystyle \\left[\\begin{matrix}30\\\\-42\\\\18\\end{matrix}\\right]$"
      ],
      "text/plain": [
       "Matrix([\n",
       "[ 30],\n",
       "[-42],\n",
       "[ 18]])"
      ]
     },
     "metadata": {},
     "output_type": "display_data"
    }
   ],
   "source": [
    "for i in range(n):\n",
    "    v[i + 1] = A * v[i]\n",
    "    display(v[i+ 1])"
   ]
  },
  {
   "cell_type": "code",
   "execution_count": 6,
   "metadata": {},
   "outputs": [
    {
     "data": {
      "text/latex": [
       "$\\displaystyle \\left[\\begin{matrix}2 & 0 & 2 & 30\\\\-10 & -1 & 5 & -42\\\\8 & 7 & 12 & 18\\end{matrix}\\right]$"
      ],
      "text/plain": [
       "Matrix([\n",
       "[  2,  0,  2,  30],\n",
       "[-10, -1,  5, -42],\n",
       "[  8,  7, 12,  18]])"
      ]
     },
     "execution_count": 6,
     "metadata": {},
     "output_type": "execute_result"
    }
   ],
   "source": [
    "E = Matrix( [v[2][i] for i in range(n)])\n",
    "for i in range(1, -1, -1):\n",
    "    E = E.col_insert(E.shape[0], v[i])\n",
    "\n",
    "E = E.col_insert(E.shape[0], v[n])\n",
    "\n",
    "E"
   ]
  },
  {
   "cell_type": "code",
   "execution_count": 7,
   "metadata": {},
   "outputs": [
    {
     "data": {
      "text/latex": [
       "$\\displaystyle \\left[\\begin{matrix}-9\\\\18\\\\-6\\end{matrix}\\right]$"
      ],
      "text/plain": [
       "Matrix([\n",
       "[-9],\n",
       "[18],\n",
       "[-6]])"
      ]
     },
     "execution_count": 7,
     "metadata": {},
     "output_type": "execute_result"
    }
   ],
   "source": [
    "sol = -1 * backsubs(gausselim(E))\n",
    "sol"
   ]
  },
  {
   "cell_type": "code",
   "execution_count": 8,
   "metadata": {},
   "outputs": [
    {
     "data": {
      "text/latex": [
       "$\\displaystyle \\lambda^{3} - 9 \\lambda^{2} + 18 \\lambda - 6$"
      ],
      "text/plain": [
       "lamda**3 - 9*lamda**2 + 18*lamda - 6"
      ]
     },
     "execution_count": 8,
     "metadata": {},
     "output_type": "execute_result"
    }
   ],
   "source": [
    "# Obtener polinomio caracteristico\n",
    "p_c = lamda**n\n",
    "for i in range(n):\n",
    "    p_c += sol[i] * lamda**(n-i-1)\n",
    "\n",
    "p_c"
   ]
  },
  {
   "cell_type": "code",
   "execution_count": null,
   "metadata": {},
   "outputs": [],
   "source": []
  }
 ],
 "metadata": {
  "interpreter": {
   "hash": "5dc98add9362633c78f256d17cf2fa232ed7c0ea4d489e75b6c174129bc88790"
  },
  "kernelspec": {
   "display_name": "Python 3.9.7 ('base')",
   "language": "python",
   "name": "python3"
  },
  "language_info": {
   "codemirror_mode": {
    "name": "ipython",
    "version": 3
   },
   "file_extension": ".py",
   "mimetype": "text/x-python",
   "name": "python",
   "nbconvert_exporter": "python",
   "pygments_lexer": "ipython3",
   "version": "3.9.7"
  },
  "orig_nbformat": 4
 },
 "nbformat": 4,
 "nbformat_minor": 2
}
