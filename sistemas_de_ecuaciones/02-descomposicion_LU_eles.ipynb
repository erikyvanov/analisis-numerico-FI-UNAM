{
 "cells": [
  {
   "cell_type": "code",
   "execution_count": 1,
   "metadata": {},
   "outputs": [],
   "source": [
    "from sympy import Matrix, Symbol, solve, Eq, zeros"
   ]
  },
  {
   "cell_type": "code",
   "execution_count": 2,
   "metadata": {},
   "outputs": [
    {
     "data": {
      "text/latex": [
       "$\\displaystyle \\left[\\begin{matrix}2 & 6 & 5\\\\-3 & 8 & 2\\\\6 & 8 & 1\\end{matrix}\\right]$"
      ],
      "text/plain": [
       "Matrix([\n",
       "[ 2, 6, 5],\n",
       "[-3, 8, 2],\n",
       "[ 6, 8, 1]])"
      ]
     },
     "execution_count": 2,
     "metadata": {},
     "output_type": "execute_result"
    }
   ],
   "source": [
    "n = 3\n",
    "A = Matrix(n, n, [2, 6, 5, -3, 8, 2, 6, 8, 1])\n",
    "A"
   ]
  },
  {
   "cell_type": "code",
   "execution_count": 3,
   "metadata": {},
   "outputs": [],
   "source": [
    "b = Matrix([2,5,7])"
   ]
  },
  {
   "cell_type": "code",
   "execution_count": 4,
   "metadata": {},
   "outputs": [
    {
     "data": {
      "text/latex": [
       "$\\displaystyle \\left[\\begin{matrix}L0,0 & L0,1 & L0,2\\\\L1,0 & L1,1 & L1,2\\\\L2,0 & L2,1 & L2,2\\end{matrix}\\right]$"
      ],
      "text/plain": [
       "Matrix([\n",
       "[L0,0, L0,1, L0,2],\n",
       "[L1,0, L1,1, L1,2],\n",
       "[L2,0, L2,1, L2,2]])"
      ]
     },
     "execution_count": 4,
     "metadata": {},
     "output_type": "execute_result"
    }
   ],
   "source": [
    "L = Matrix(n, n, [Symbol(f\"L{i},{j}\") for i in range(n) for j in range(n)])\n",
    "L"
   ]
  },
  {
   "cell_type": "code",
   "execution_count": 5,
   "metadata": {},
   "outputs": [
    {
     "data": {
      "text/latex": [
       "$\\displaystyle \\left[\\begin{matrix}U0,0 & U0,1 & U0,2\\\\U1,0 & U1,1 & U1,2\\\\U2,0 & U2,1 & U2,2\\end{matrix}\\right]$"
      ],
      "text/plain": [
       "Matrix([\n",
       "[U0,0, U0,1, U0,2],\n",
       "[U1,0, U1,1, U1,2],\n",
       "[U2,0, U2,1, U2,2]])"
      ]
     },
     "execution_count": 5,
     "metadata": {},
     "output_type": "execute_result"
    }
   ],
   "source": [
    "U = Matrix(n, n, [Symbol(f\"U{i},{j}\") for i in range(n) for j in range(n)])\n",
    "U"
   ]
  },
  {
   "cell_type": "code",
   "execution_count": 6,
   "metadata": {},
   "outputs": [
    {
     "data": {
      "text/latex": [
       "$\\displaystyle \\left[\\begin{matrix}U0,0 & U0,1 & U0,2\\\\0 & U1,1 & U1,2\\\\0 & 0 & U2,2\\end{matrix}\\right]$"
      ],
      "text/plain": [
       "Matrix([\n",
       "[U0,0, U0,1, U0,2],\n",
       "[   0, U1,1, U1,2],\n",
       "[   0,    0, U2,2]])"
      ]
     },
     "execution_count": 6,
     "metadata": {},
     "output_type": "execute_result"
    }
   ],
   "source": [
    "for i in range(n):\n",
    "    for j in range(n):\n",
    "        if j > i:\n",
    "            L[i, j] = 0\n",
    "        if i > j:\n",
    "            U[i, j] = 0\n",
    "\n",
    "U"
   ]
  },
  {
   "cell_type": "code",
   "execution_count": 7,
   "metadata": {},
   "outputs": [
    {
     "data": {
      "text/latex": [
       "$\\displaystyle \\left[\\begin{matrix}L0,0 & 0 & 0\\\\L1,0 & L1,1 & 0\\\\L2,0 & L2,1 & L2,2\\end{matrix}\\right]$"
      ],
      "text/plain": [
       "Matrix([\n",
       "[L0,0,    0,    0],\n",
       "[L1,0, L1,1,    0],\n",
       "[L2,0, L2,1, L2,2]])"
      ]
     },
     "execution_count": 7,
     "metadata": {},
     "output_type": "execute_result"
    }
   ],
   "source": [
    "L"
   ]
  },
  {
   "cell_type": "code",
   "execution_count": 8,
   "metadata": {},
   "outputs": [
    {
     "data": {
      "text/latex": [
       "$\\displaystyle \\left[\\begin{matrix}4 U0,0 & 4 U0,1 & 4 U0,2\\\\L1,0 U0,0 & L1,0 U0,1 + 8 U1,1 & L1,0 U0,2 + 8 U1,2\\\\L2,0 U0,0 & L2,0 U0,1 + L2,1 U1,1 & L2,0 U0,2 + L2,1 U1,2 + 12 U2,2\\end{matrix}\\right]$"
      ],
      "text/plain": [
       "Matrix([\n",
       "[   4*U0,0,                4*U0,1,                          4*U0,2],\n",
       "[L1,0*U0,0,    L1,0*U0,1 + 8*U1,1,              L1,0*U0,2 + 8*U1,2],\n",
       "[L2,0*U0,0, L2,0*U0,1 + L2,1*U1,1, L2,0*U0,2 + L2,1*U1,2 + 12*U2,2]])"
      ]
     },
     "execution_count": 8,
     "metadata": {},
     "output_type": "execute_result"
    }
   ],
   "source": [
    "L[0, 0] = 4\n",
    "L[1, 1] = 8\n",
    "L[2, 2] = 12\n",
    "\n",
    "C = L*U\n",
    "C"
   ]
  },
  {
   "cell_type": "code",
   "execution_count": 9,
   "metadata": {},
   "outputs": [
    {
     "data": {
      "text/latex": [
       "$\\displaystyle \\left[\\begin{matrix}\\frac{1}{2} & \\frac{3}{2} & \\frac{5}{4}\\\\0 & U1,1 & U1,2\\\\0 & 0 & U2,2\\end{matrix}\\right]$"
      ],
      "text/plain": [
       "Matrix([\n",
       "[1/2,  3/2,  5/4],\n",
       "[  0, U1,1, U1,2],\n",
       "[  0,    0, U2,2]])"
      ]
     },
     "execution_count": 9,
     "metadata": {},
     "output_type": "execute_result"
    }
   ],
   "source": [
    "for i in range(n):\n",
    "    U[0, i] = solve(Eq(C[0, i], A[0, i]), U[0, i])\n",
    "\n",
    "U"
   ]
  },
  {
   "cell_type": "code",
   "execution_count": 10,
   "metadata": {},
   "outputs": [],
   "source": [
    "for i in range(1, n):\n",
    "    for j in range(n):\n",
    "        if i > j:\n",
    "            L[i, j] = solve(Eq(C[i, j], A[i, j]), L[i, j])\n",
    "        else:\n",
    "            U[i, j] = solve(Eq(C[i, j], A[i, j]), U[i, j])\n",
    "\n",
    "sols = {Symbol(f\"U{i},{j}\"):U[i,j] for i in range(n) for j in range(n)} | {Symbol(f\"L{i},{j}\"):L[i,j] for i in range(n) for j in range(n)}\n",
    "\n",
    "U = U.subs(sols)\n",
    "L = L.subs(sols)\n",
    "\n",
    "sols = {Symbol(f\"U{i},{j}\"):U[i,j] for i in range(n) for j in range(n)} | {Symbol(f\"L{i},{j}\"):L[i,j] for i in range(n) for j in range(n)}\n"
   ]
  },
  {
   "cell_type": "code",
   "execution_count": 11,
   "metadata": {},
   "outputs": [
    {
     "data": {
      "text/latex": [
       "$\\displaystyle \\left[\\begin{matrix}4 & 0 & 0\\\\-6 & 8 & 0\\\\12 & - \\frac{80}{17} & 12\\end{matrix}\\right]$"
      ],
      "text/plain": [
       "Matrix([\n",
       "[ 4,      0,  0],\n",
       "[-6,      8,  0],\n",
       "[12, -80/17, 12]])"
      ]
     },
     "execution_count": 11,
     "metadata": {},
     "output_type": "execute_result"
    }
   ],
   "source": [
    "L = L.subs(sols)\n",
    "L"
   ]
  },
  {
   "cell_type": "code",
   "execution_count": 12,
   "metadata": {},
   "outputs": [
    {
     "data": {
      "text/latex": [
       "$\\displaystyle \\left[\\begin{matrix}\\frac{1}{2} & \\frac{3}{2} & \\frac{5}{4}\\\\0 & \\frac{17}{8} & \\frac{19}{16}\\\\0 & 0 & - \\frac{143}{204}\\end{matrix}\\right]$"
      ],
      "text/plain": [
       "Matrix([\n",
       "[1/2,  3/2,      5/4],\n",
       "[  0, 17/8,    19/16],\n",
       "[  0,    0, -143/204]])"
      ]
     },
     "execution_count": 12,
     "metadata": {},
     "output_type": "execute_result"
    }
   ],
   "source": [
    "U = U.subs(sols)\n",
    "U"
   ]
  },
  {
   "cell_type": "code",
   "execution_count": 13,
   "metadata": {},
   "outputs": [
    {
     "data": {
      "text/latex": [
       "$\\displaystyle \\left[\\begin{matrix}\\frac{1}{2}\\\\1\\\\\\frac{97}{204}\\end{matrix}\\right]$"
      ],
      "text/plain": [
       "Matrix([\n",
       "[   1/2],\n",
       "[     1],\n",
       "[97/204]])"
      ]
     },
     "execution_count": 13,
     "metadata": {},
     "output_type": "execute_result"
    }
   ],
   "source": [
    "C = L.inv() * b\n",
    "C"
   ]
  },
  {
   "cell_type": "code",
   "execution_count": 14,
   "metadata": {},
   "outputs": [
    {
     "data": {
      "text/latex": [
       "$\\displaystyle \\left[\\begin{matrix}\\frac{1}{2} & \\frac{3}{2} & \\frac{5}{4} & \\frac{1}{2}\\\\0 & \\frac{17}{8} & \\frac{19}{16} & 1\\\\0 & 0 & - \\frac{143}{204} & \\frac{97}{204}\\end{matrix}\\right]$"
      ],
      "text/plain": [
       "Matrix([\n",
       "[1/2,  3/2,      5/4,    1/2],\n",
       "[  0, 17/8,    19/16,      1],\n",
       "[  0,    0, -143/204, 97/204]])"
      ]
     },
     "execution_count": 14,
     "metadata": {},
     "output_type": "execute_result"
    }
   ],
   "source": [
    "E = U.col_insert(3, C)\n",
    "E"
   ]
  },
  {
   "cell_type": "code",
   "execution_count": 15,
   "metadata": {},
   "outputs": [],
   "source": [
    "def backsubs(A, b):\n",
    "    A = A.copy()\n",
    "    b = b.copy()\n",
    "    \n",
    "    n = b.shape[0]\n",
    "\n",
    "    xcomp = Matrix([0 for _ in range(n)])\n",
    "\n",
    "    for i in range(n-1, -1, -1):\n",
    "        tmp = b[i]\n",
    "        for j in range(n-1, i, -1):\n",
    "            tmp -= xcomp[j]*A[i,j]\n",
    "            \n",
    "        xcomp[i] = tmp/A[i,i]\n",
    "\n",
    "    return xcomp"
   ]
  },
  {
   "cell_type": "code",
   "execution_count": 16,
   "metadata": {},
   "outputs": [
    {
     "data": {
      "text/latex": [
       "$\\displaystyle \\left[\\begin{matrix}\\frac{21}{143}\\\\\\frac{243}{286}\\\\- \\frac{97}{143}\\end{matrix}\\right]$"
      ],
      "text/plain": [
       "Matrix([\n",
       "[ 21/143],\n",
       "[243/286],\n",
       "[-97/143]])"
      ]
     },
     "execution_count": 16,
     "metadata": {},
     "output_type": "execute_result"
    }
   ],
   "source": [
    "sol = backsubs(U, C)\n",
    "sol"
   ]
  },
  {
   "cell_type": "markdown",
   "metadata": {},
   "source": [
    "# Comprobar"
   ]
  },
  {
   "cell_type": "code",
   "execution_count": 17,
   "metadata": {},
   "outputs": [
    {
     "data": {
      "text/latex": [
       "$\\displaystyle \\left[\\begin{matrix}\\frac{21}{143}\\\\\\frac{243}{286}\\\\- \\frac{97}{143}\\end{matrix}\\right]$"
      ],
      "text/plain": [
       "Matrix([\n",
       "[ 21/143],\n",
       "[243/286],\n",
       "[-97/143]])"
      ]
     },
     "execution_count": 17,
     "metadata": {},
     "output_type": "execute_result"
    }
   ],
   "source": [
    "A.gauss_jordan_solve(b)[0]"
   ]
  },
  {
   "cell_type": "code",
   "execution_count": null,
   "metadata": {},
   "outputs": [],
   "source": []
  }
 ],
 "metadata": {
  "interpreter": {
   "hash": "5dc98add9362633c78f256d17cf2fa232ed7c0ea4d489e75b6c174129bc88790"
  },
  "kernelspec": {
   "display_name": "Python 3.9.7 ('base')",
   "language": "python",
   "name": "python3"
  },
  "language_info": {
   "codemirror_mode": {
    "name": "ipython",
    "version": 3
   },
   "file_extension": ".py",
   "mimetype": "text/x-python",
   "name": "python",
   "nbconvert_exporter": "python",
   "pygments_lexer": "ipython3",
   "version": "3.9.7"
  },
  "orig_nbformat": 4
 },
 "nbformat": 4,
 "nbformat_minor": 2
}
