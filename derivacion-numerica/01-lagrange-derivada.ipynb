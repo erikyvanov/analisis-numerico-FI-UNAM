{
 "cells": [
  {
   "cell_type": "code",
   "execution_count": 37,
   "metadata": {},
   "outputs": [],
   "source": [
    "from sympy import IndexedBase\n",
    "from sympy.abc import r, h\n",
    "import math"
   ]
  },
  {
   "cell_type": "code",
   "execution_count": 38,
   "metadata": {},
   "outputs": [],
   "source": [
    "n = 5\n",
    "\n",
    "x = IndexedBase('x')\n",
    "y = IndexedBase('y')"
   ]
  },
  {
   "cell_type": "code",
   "execution_count": 39,
   "metadata": {},
   "outputs": [
    {
     "data": {
      "text/latex": [
       "$\\displaystyle \\frac{\\left(r - {x}_{1}\\right) \\left(r - {x}_{2}\\right) \\left(r - {x}_{3}\\right) \\left(r - {x}_{4}\\right) {y}_{5}}{\\left(- {x}_{1} + {x}_{5}\\right) \\left(- {x}_{2} + {x}_{5}\\right) \\left(- {x}_{3} + {x}_{5}\\right) \\left(- {x}_{4} + {x}_{5}\\right)} + \\frac{\\left(r - {x}_{1}\\right) \\left(r - {x}_{2}\\right) \\left(r - {x}_{3}\\right) \\left(r - {x}_{5}\\right) {y}_{4}}{\\left(- {x}_{1} + {x}_{4}\\right) \\left(- {x}_{2} + {x}_{4}\\right) \\left(- {x}_{3} + {x}_{4}\\right) \\left({x}_{4} - {x}_{5}\\right)} + \\frac{\\left(r - {x}_{1}\\right) \\left(r - {x}_{2}\\right) \\left(r - {x}_{4}\\right) \\left(r - {x}_{5}\\right) {y}_{3}}{\\left(- {x}_{1} + {x}_{3}\\right) \\left(- {x}_{2} + {x}_{3}\\right) \\left({x}_{3} - {x}_{4}\\right) \\left({x}_{3} - {x}_{5}\\right)} + \\frac{\\left(r - {x}_{1}\\right) \\left(r - {x}_{3}\\right) \\left(r - {x}_{4}\\right) \\left(r - {x}_{5}\\right) {y}_{2}}{\\left(- {x}_{1} + {x}_{2}\\right) \\left({x}_{2} - {x}_{3}\\right) \\left({x}_{2} - {x}_{4}\\right) \\left({x}_{2} - {x}_{5}\\right)} + \\frac{\\left(r - {x}_{2}\\right) \\left(r - {x}_{3}\\right) \\left(r - {x}_{4}\\right) \\left(r - {x}_{5}\\right) {y}_{1}}{\\left({x}_{1} - {x}_{2}\\right) \\left({x}_{1} - {x}_{3}\\right) \\left({x}_{1} - {x}_{4}\\right) \\left({x}_{1} - {x}_{5}\\right)}$"
      ],
      "text/plain": [
       "(r - x[1])*(r - x[2])*(r - x[3])*(r - x[4])*y[5]/((-x[1] + x[5])*(-x[2] + x[5])*(-x[3] + x[5])*(-x[4] + x[5])) + (r - x[1])*(r - x[2])*(r - x[3])*(r - x[5])*y[4]/((-x[1] + x[4])*(-x[2] + x[4])*(-x[3] + x[4])*(x[4] - x[5])) + (r - x[1])*(r - x[2])*(r - x[4])*(r - x[5])*y[3]/((-x[1] + x[3])*(-x[2] + x[3])*(x[3] - x[4])*(x[3] - x[5])) + (r - x[1])*(r - x[3])*(r - x[4])*(r - x[5])*y[2]/((-x[1] + x[2])*(x[2] - x[3])*(x[2] - x[4])*(x[2] - x[5])) + (r - x[2])*(r - x[3])*(r - x[4])*(r - x[5])*y[1]/((x[1] - x[2])*(x[1] - x[3])*(x[1] - x[4])*(x[1] - x[5]))"
      ]
     },
     "execution_count": 39,
     "metadata": {},
     "output_type": "execute_result"
    }
   ],
   "source": [
    "L = {}\n",
    "\n",
    "for j in range(n):\n",
    "    L[j] = math.prod([(r - x[i+1]) for i in range(j)]) * math.prod([(r - x[i+1]) for i in range(j+1, n)]) / (math.prod([(x[j+1] - x[i+1]) for i in range(j)]) * math.prod([(x[j+1] - x[i+1]) for i in range(j+1, n)]))\n",
    "\n",
    "f = sum([L[u] * y[u+1] for u in range(n)])\n",
    "f"
   ]
  },
  {
   "cell_type": "code",
   "execution_count": 40,
   "metadata": {},
   "outputs": [
    {
     "data": {
      "text/latex": [
       "$\\displaystyle 6 \\left(\\frac{\\left(r - {x}_{1}\\right) {y}_{5}}{\\left({x}_{1} - {x}_{5}\\right) \\left({x}_{2} - {x}_{5}\\right) \\left({x}_{3} - {x}_{5}\\right) \\left({x}_{4} - {x}_{5}\\right)} - \\frac{\\left(r - {x}_{1}\\right) {y}_{4}}{\\left({x}_{1} - {x}_{4}\\right) \\left({x}_{2} - {x}_{4}\\right) \\left({x}_{3} - {x}_{4}\\right) \\left({x}_{4} - {x}_{5}\\right)} + \\frac{\\left(r - {x}_{1}\\right) {y}_{3}}{\\left({x}_{1} - {x}_{3}\\right) \\left({x}_{2} - {x}_{3}\\right) \\left({x}_{3} - {x}_{4}\\right) \\left({x}_{3} - {x}_{5}\\right)} - \\frac{\\left(r - {x}_{1}\\right) {y}_{2}}{\\left({x}_{1} - {x}_{2}\\right) \\left({x}_{2} - {x}_{3}\\right) \\left({x}_{2} - {x}_{4}\\right) \\left({x}_{2} - {x}_{5}\\right)} + \\frac{\\left(r - {x}_{2}\\right) {y}_{5}}{\\left({x}_{1} - {x}_{5}\\right) \\left({x}_{2} - {x}_{5}\\right) \\left({x}_{3} - {x}_{5}\\right) \\left({x}_{4} - {x}_{5}\\right)} - \\frac{\\left(r - {x}_{2}\\right) {y}_{4}}{\\left({x}_{1} - {x}_{4}\\right) \\left({x}_{2} - {x}_{4}\\right) \\left({x}_{3} - {x}_{4}\\right) \\left({x}_{4} - {x}_{5}\\right)} + \\frac{\\left(r - {x}_{2}\\right) {y}_{3}}{\\left({x}_{1} - {x}_{3}\\right) \\left({x}_{2} - {x}_{3}\\right) \\left({x}_{3} - {x}_{4}\\right) \\left({x}_{3} - {x}_{5}\\right)} + \\frac{\\left(r - {x}_{2}\\right) {y}_{1}}{\\left({x}_{1} - {x}_{2}\\right) \\left({x}_{1} - {x}_{3}\\right) \\left({x}_{1} - {x}_{4}\\right) \\left({x}_{1} - {x}_{5}\\right)} + \\frac{\\left(r - {x}_{3}\\right) {y}_{5}}{\\left({x}_{1} - {x}_{5}\\right) \\left({x}_{2} - {x}_{5}\\right) \\left({x}_{3} - {x}_{5}\\right) \\left({x}_{4} - {x}_{5}\\right)} - \\frac{\\left(r - {x}_{3}\\right) {y}_{4}}{\\left({x}_{1} - {x}_{4}\\right) \\left({x}_{2} - {x}_{4}\\right) \\left({x}_{3} - {x}_{4}\\right) \\left({x}_{4} - {x}_{5}\\right)} - \\frac{\\left(r - {x}_{3}\\right) {y}_{2}}{\\left({x}_{1} - {x}_{2}\\right) \\left({x}_{2} - {x}_{3}\\right) \\left({x}_{2} - {x}_{4}\\right) \\left({x}_{2} - {x}_{5}\\right)} + \\frac{\\left(r - {x}_{3}\\right) {y}_{1}}{\\left({x}_{1} - {x}_{2}\\right) \\left({x}_{1} - {x}_{3}\\right) \\left({x}_{1} - {x}_{4}\\right) \\left({x}_{1} - {x}_{5}\\right)} + \\frac{\\left(r - {x}_{4}\\right) {y}_{5}}{\\left({x}_{1} - {x}_{5}\\right) \\left({x}_{2} - {x}_{5}\\right) \\left({x}_{3} - {x}_{5}\\right) \\left({x}_{4} - {x}_{5}\\right)} + \\frac{\\left(r - {x}_{4}\\right) {y}_{3}}{\\left({x}_{1} - {x}_{3}\\right) \\left({x}_{2} - {x}_{3}\\right) \\left({x}_{3} - {x}_{4}\\right) \\left({x}_{3} - {x}_{5}\\right)} - \\frac{\\left(r - {x}_{4}\\right) {y}_{2}}{\\left({x}_{1} - {x}_{2}\\right) \\left({x}_{2} - {x}_{3}\\right) \\left({x}_{2} - {x}_{4}\\right) \\left({x}_{2} - {x}_{5}\\right)} + \\frac{\\left(r - {x}_{4}\\right) {y}_{1}}{\\left({x}_{1} - {x}_{2}\\right) \\left({x}_{1} - {x}_{3}\\right) \\left({x}_{1} - {x}_{4}\\right) \\left({x}_{1} - {x}_{5}\\right)} - \\frac{\\left(r - {x}_{5}\\right) {y}_{4}}{\\left({x}_{1} - {x}_{4}\\right) \\left({x}_{2} - {x}_{4}\\right) \\left({x}_{3} - {x}_{4}\\right) \\left({x}_{4} - {x}_{5}\\right)} + \\frac{\\left(r - {x}_{5}\\right) {y}_{3}}{\\left({x}_{1} - {x}_{3}\\right) \\left({x}_{2} - {x}_{3}\\right) \\left({x}_{3} - {x}_{4}\\right) \\left({x}_{3} - {x}_{5}\\right)} - \\frac{\\left(r - {x}_{5}\\right) {y}_{2}}{\\left({x}_{1} - {x}_{2}\\right) \\left({x}_{2} - {x}_{3}\\right) \\left({x}_{2} - {x}_{4}\\right) \\left({x}_{2} - {x}_{5}\\right)} + \\frac{\\left(r - {x}_{5}\\right) {y}_{1}}{\\left({x}_{1} - {x}_{2}\\right) \\left({x}_{1} - {x}_{3}\\right) \\left({x}_{1} - {x}_{4}\\right) \\left({x}_{1} - {x}_{5}\\right)}\\right)$"
      ],
      "text/plain": [
       "6*((r - x[1])*y[5]/((x[1] - x[5])*(x[2] - x[5])*(x[3] - x[5])*(x[4] - x[5])) - (r - x[1])*y[4]/((x[1] - x[4])*(x[2] - x[4])*(x[3] - x[4])*(x[4] - x[5])) + (r - x[1])*y[3]/((x[1] - x[3])*(x[2] - x[3])*(x[3] - x[4])*(x[3] - x[5])) - (r - x[1])*y[2]/((x[1] - x[2])*(x[2] - x[3])*(x[2] - x[4])*(x[2] - x[5])) + (r - x[2])*y[5]/((x[1] - x[5])*(x[2] - x[5])*(x[3] - x[5])*(x[4] - x[5])) - (r - x[2])*y[4]/((x[1] - x[4])*(x[2] - x[4])*(x[3] - x[4])*(x[4] - x[5])) + (r - x[2])*y[3]/((x[1] - x[3])*(x[2] - x[3])*(x[3] - x[4])*(x[3] - x[5])) + (r - x[2])*y[1]/((x[1] - x[2])*(x[1] - x[3])*(x[1] - x[4])*(x[1] - x[5])) + (r - x[3])*y[5]/((x[1] - x[5])*(x[2] - x[5])*(x[3] - x[5])*(x[4] - x[5])) - (r - x[3])*y[4]/((x[1] - x[4])*(x[2] - x[4])*(x[3] - x[4])*(x[4] - x[5])) - (r - x[3])*y[2]/((x[1] - x[2])*(x[2] - x[3])*(x[2] - x[4])*(x[2] - x[5])) + (r - x[3])*y[1]/((x[1] - x[2])*(x[1] - x[3])*(x[1] - x[4])*(x[1] - x[5])) + (r - x[4])*y[5]/((x[1] - x[5])*(x[2] - x[5])*(x[3] - x[5])*(x[4] - x[5])) + (r - x[4])*y[3]/((x[1] - x[3])*(x[2] - x[3])*(x[3] - x[4])*(x[3] - x[5])) - (r - x[4])*y[2]/((x[1] - x[2])*(x[2] - x[3])*(x[2] - x[4])*(x[2] - x[5])) + (r - x[4])*y[1]/((x[1] - x[2])*(x[1] - x[3])*(x[1] - x[4])*(x[1] - x[5])) - (r - x[5])*y[4]/((x[1] - x[4])*(x[2] - x[4])*(x[3] - x[4])*(x[4] - x[5])) + (r - x[5])*y[3]/((x[1] - x[3])*(x[2] - x[3])*(x[3] - x[4])*(x[3] - x[5])) - (r - x[5])*y[2]/((x[1] - x[2])*(x[2] - x[3])*(x[2] - x[4])*(x[2] - x[5])) + (r - x[5])*y[1]/((x[1] - x[2])*(x[1] - x[3])*(x[1] - x[4])*(x[1] - x[5])))"
      ]
     },
     "execution_count": 40,
     "metadata": {},
     "output_type": "execute_result"
    }
   ],
   "source": [
    "g = f.diff(r, 3)\n",
    "g"
   ]
  },
  {
   "cell_type": "code",
   "execution_count": 41,
   "metadata": {},
   "outputs": [
    {
     "data": {
      "text/latex": [
       "$\\displaystyle - \\frac{{y}_{1}}{2 h^{3}} + \\frac{{y}_{2}}{h^{3}} - \\frac{{y}_{4}}{h^{3}} + \\frac{{y}_{5}}{2 h^{3}}$"
      ],
      "text/plain": [
       "-y[1]/(2*h**3) + y[2]/h**3 - y[4]/h**3 + y[5]/(2*h**3)"
      ]
     },
     "execution_count": 41,
     "metadata": {},
     "output_type": "execute_result"
    }
   ],
   "source": [
    "g = g.subs([(r, x[3]),(x[1], x[3]-2*h),(x[2], x[3]-h), (x[4], x[3]+h), (x[5], x[3] + 2*h)])\n",
    "g"
   ]
  },
  {
   "cell_type": "code",
   "execution_count": 42,
   "metadata": {},
   "outputs": [],
   "source": [
    "from sympy.abc import x"
   ]
  },
  {
   "cell_type": "code",
   "execution_count": 43,
   "metadata": {},
   "outputs": [
    {
     "data": {
      "text/latex": [
       "$\\displaystyle 35 x^{3} + 5 x^{2} - 5$"
      ],
      "text/plain": [
       "35*x**3 + 5*x**2 - 5"
      ]
     },
     "execution_count": 43,
     "metadata": {},
     "output_type": "execute_result"
    }
   ],
   "source": [
    "f = 35*x**3 + 5*x**2 - 5\n",
    "a = 7\n",
    "h = 0.01\n",
    "\n",
    "f"
   ]
  },
  {
   "cell_type": "code",
   "execution_count": 44,
   "metadata": {},
   "outputs": [
    {
     "data": {
      "text/latex": [
       "$\\displaystyle 5215.00349999997$"
      ],
      "text/plain": [
       "5215.00349999997"
      ]
     },
     "execution_count": 44,
     "metadata": {},
     "output_type": "execute_result"
    }
   ],
   "source": [
    "g = (1/(2*h)) * (f.subs(x, a+h) - f.subs(x, a-h))\n",
    "g "
   ]
  },
  {
   "cell_type": "code",
   "execution_count": 45,
   "metadata": {},
   "outputs": [
    {
     "data": {
      "text/latex": [
       "$\\displaystyle 5215$"
      ],
      "text/plain": [
       "5215"
      ]
     },
     "execution_count": 45,
     "metadata": {},
     "output_type": "execute_result"
    }
   ],
   "source": [
    "f.diff().subs(x, a)"
   ]
  },
  {
   "cell_type": "code",
   "execution_count": null,
   "metadata": {},
   "outputs": [],
   "source": []
  }
 ],
 "metadata": {
  "interpreter": {
   "hash": "5dc98add9362633c78f256d17cf2fa232ed7c0ea4d489e75b6c174129bc88790"
  },
  "kernelspec": {
   "display_name": "Python 3.9.7 ('base')",
   "language": "python",
   "name": "python3"
  },
  "language_info": {
   "codemirror_mode": {
    "name": "ipython",
    "version": 3
   },
   "file_extension": ".py",
   "mimetype": "text/x-python",
   "name": "python",
   "nbconvert_exporter": "python",
   "pygments_lexer": "ipython3",
   "version": "3.9.7"
  },
  "orig_nbformat": 4
 },
 "nbformat": 4,
 "nbformat_minor": 2
}
