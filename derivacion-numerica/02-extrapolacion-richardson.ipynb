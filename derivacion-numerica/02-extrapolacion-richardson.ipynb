{
 "cells": [
  {
   "cell_type": "code",
   "execution_count": 20,
   "metadata": {},
   "outputs": [],
   "source": [
    "from sympy import zeros\n",
    "from sympy.abc import x"
   ]
  },
  {
   "cell_type": "code",
   "execution_count": 21,
   "metadata": {},
   "outputs": [
    {
     "data": {
      "text/latex": [
       "$\\displaystyle 35 x^{3} + 5 x^{2} - 5$"
      ],
      "text/plain": [
       "35*x**3 + 5*x**2 - 5"
      ]
     },
     "execution_count": 21,
     "metadata": {},
     "output_type": "execute_result"
    }
   ],
   "source": [
    "f = 35*x**3 + 5*x**2 - 5\n",
    "a = 7\n",
    "h = 0.01\n",
    "n = 5\n",
    "R = zeros(n)\n",
    "\n",
    "f"
   ]
  },
  {
   "cell_type": "code",
   "execution_count": 22,
   "metadata": {},
   "outputs": [
    {
     "data": {
      "text/latex": [
       "$\\displaystyle \\left[\\begin{matrix}5215.00349999997 & 0 & 0 & 0 & 0\\\\5215.0008749999 & 5214.99999999987 & 0 & 0 & 0\\\\5215.00021875072 & 5215.00000000099 & 5215.00000000107 & 0 & 0\\\\5215.00005468624 & 5214.99999999808 & 5214.99999999789 & 5214.99999999784 & 0\\\\5215.00001367531 & 5215.000000005 & 5215.00000000546 & 5215.00000000558 & 5215.00000000561\\end{matrix}\\right]$"
      ],
      "text/plain": [
       "Matrix([\n",
       "[5215.00349999997,                0,                0,                0,                0],\n",
       "[ 5215.0008749999, 5214.99999999987,                0,                0,                0],\n",
       "[5215.00021875072, 5215.00000000099, 5215.00000000107,                0,                0],\n",
       "[5215.00005468624, 5214.99999999808, 5214.99999999789, 5214.99999999784,                0],\n",
       "[5215.00001367531,   5215.000000005, 5215.00000000546, 5215.00000000558, 5215.00000000561]])"
      ]
     },
     "execution_count": 22,
     "metadata": {},
     "output_type": "execute_result"
    }
   ],
   "source": [
    "for i in range(n):\n",
    "    R[i, 0] = (1/(2*h)) * (f.subs(x, a+h) - f.subs(x, a-h))\n",
    "    h = h/2\n",
    "\n",
    "for i in range(1, n):\n",
    "    for j in range(i, n):\n",
    "        R[j, i] = (4**(i) * R[j, i-1] - R[j - 1, i - 1]) / (4**(i) - 1)\n",
    "\n",
    "R"
   ]
  },
  {
   "cell_type": "code",
   "execution_count": null,
   "metadata": {},
   "outputs": [],
   "source": []
  }
 ],
 "metadata": {
  "interpreter": {
   "hash": "5dc98add9362633c78f256d17cf2fa232ed7c0ea4d489e75b6c174129bc88790"
  },
  "kernelspec": {
   "display_name": "Python 3.9.7 ('base')",
   "language": "python",
   "name": "python3"
  },
  "language_info": {
   "codemirror_mode": {
    "name": "ipython",
    "version": 3
   },
   "file_extension": ".py",
   "mimetype": "text/x-python",
   "name": "python",
   "nbconvert_exporter": "python",
   "pygments_lexer": "ipython3",
   "version": "3.9.7"
  },
  "orig_nbformat": 4
 },
 "nbformat": 4,
 "nbformat_minor": 2
}
