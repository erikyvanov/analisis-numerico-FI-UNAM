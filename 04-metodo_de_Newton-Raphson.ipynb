{
 "cells": [
  {
   "cell_type": "markdown",
   "metadata": {},
   "source": [
    "# Método de Newton-Raphson"
   ]
  },
  {
   "cell_type": "code",
   "execution_count": 11,
   "metadata": {},
   "outputs": [],
   "source": [
    "from sympy import *\n",
    "from sympy.abc import x\n",
    "\n",
    "from IPython.display import display"
   ]
  },
  {
   "cell_type": "code",
   "execution_count": 12,
   "metadata": {},
   "outputs": [
    {
     "data": {
      "text/latex": [
       "$\\displaystyle x^{3} - x^{2} \\cos{\\left(x \\right)} - 3 x$"
      ],
      "text/plain": [
       "x**3 - x**2*cos(x) - 3*x"
      ]
     },
     "metadata": {},
     "output_type": "display_data"
    },
    {
     "data": {
      "image/png": "[encoded data removed]",
      "text/plain": [
       "<Figure size 432x288 with 1 Axes>"
      ]
     },
     "metadata": {
      "needs_background": "light"
     },
     "output_type": "display_data"
    },
    {
     "data": {
      "text/latex": [
       "$\\displaystyle x^{2} \\sin{\\left(x \\right)} + 3 x^{2} - 2 x \\cos{\\left(x \\right)} - 3$"
      ],
      "text/plain": [
       "x**2*sin(x) + 3*x**2 - 2*x*cos(x) - 3"
      ]
     },
     "metadata": {},
     "output_type": "display_data"
    },
    {
     "data": {
      "text/latex": [
       "$\\displaystyle x^{2} \\cos{\\left(x \\right)} + 4 x \\sin{\\left(x \\right)} + 6 x - 2 \\cos{\\left(x \\right)}$"
      ],
      "text/plain": [
       "x**2*cos(x) + 4*x*sin(x) + 6*x - 2*cos(x)"
      ]
     },
     "metadata": {},
     "output_type": "display_data"
    }
   ],
   "source": [
    "f = x**3 - x**2*cos(x) - 3*x\n",
    "display(f)\n",
    "\n",
    "p = - 1.5\n",
    "tol = 1*10**-8\n",
    "iterations = 10000\n",
    "\n",
    "plot(f, (x, p-2, p+2), ylim=(-5, 5))\n",
    "\n",
    "g = f.diff(x)\n",
    "display(g)\n",
    "\n",
    "h = f.diff(x, 2)\n",
    "display(h)"
   ]
  },
  {
   "cell_type": "code",
   "execution_count": 13,
   "metadata": {},
   "outputs": [
    {
     "name": "stdout",
     "output_type": "stream",
     "text": [
      "0.981009489218800 0.981009489218800 < 1 = True\n"
     ]
    },
    {
     "ename": "ValueError",
     "evalue": "Cambia de punto",
     "output_type": "error",
     "traceback": [
      "\u001b[1;31m---------------------------------------------------------------------------\u001b[0m",
      "\u001b[1;31mValueError\u001b[0m                                Traceback (most recent call last)",
      "\u001b[1;32m<ipython-input-13-04223d2f8df8>\u001b[0m in \u001b[0;36m<module>\u001b[1;34m\u001b[0m\n\u001b[0;32m      5\u001b[0m \u001b[0mprint\u001b[0m\u001b[1;33m(\u001b[0m\u001b[0mvery\u001b[0m\u001b[1;33m,\u001b[0m \u001b[1;34mf'{very} < 1 = {very < 1}'\u001b[0m\u001b[1;33m)\u001b[0m\u001b[1;33m\u001b[0m\u001b[1;33m\u001b[0m\u001b[0m\n\u001b[0;32m      6\u001b[0m \u001b[1;32mif\u001b[0m \u001b[0mvery\u001b[0m \u001b[1;33m<\u001b[0m \u001b[1;36m1\u001b[0m\u001b[1;33m:\u001b[0m\u001b[1;33m\u001b[0m\u001b[1;33m\u001b[0m\u001b[0m\n\u001b[1;32m----> 7\u001b[1;33m     \u001b[1;32mraise\u001b[0m \u001b[0mValueError\u001b[0m\u001b[1;33m(\u001b[0m\u001b[1;34m'Cambia de punto'\u001b[0m\u001b[1;33m)\u001b[0m\u001b[1;33m\u001b[0m\u001b[1;33m\u001b[0m\u001b[0m\n\u001b[0m\u001b[0;32m      8\u001b[0m \u001b[1;33m\u001b[0m\u001b[0m\n\u001b[0;32m      9\u001b[0m \u001b[0mm\u001b[0m \u001b[1;33m=\u001b[0m \u001b[0mp\u001b[0m\u001b[1;33m\u001b[0m\u001b[1;33m\u001b[0m\u001b[0m\n",
      "\u001b[1;31mValueError\u001b[0m: Cambia de punto"
     ]
    }
   ],
   "source": [
    "# Comprobamos el criterio de convergencia\n",
    "# g es la primera derivada de f\n",
    "# h es la segunda derivada de f\n",
    "very = abs( (f * h) / g**2 ).subs(x, p)\n",
    "\n",
    "# Si no se cumple el criterio de convergencia lanza un error indicando\n",
    "# que se tiene que cambiar el punto\n",
    "if not (very < 1):\n",
    "    raise ValueError('Cambia de punto')\n",
    "\n",
    "m = p\n",
    "print('{:^12}{:^12}{:^12}'.format('n', 'p', 'Error'))\n",
    "for i in range(iterations):\n",
    "    q = (p - f.subs(x, p) / g.subs(x, p)).evalf()\n",
    "    Erry = abs(m - q)\n",
    "    m = q\n",
    "    print(f'{i+1: ^12}{p:.8f}  {Erry:.8f}')\n",
    "    if Erry < tol:\n",
    "        print('\\nLa raiz es: %2.8f'%p)\n",
    "        break\n",
    "    else:\n",
    "        p = q"
   ]
  },
  {
   "cell_type": "code",
   "execution_count": null,
   "metadata": {},
   "outputs": [],
   "source": []
  }
 ],
 "metadata": {
  "kernelspec": {
   "display_name": "Python 3",
   "language": "python",
   "name": "python3"
  },
  "language_info": {
   "codemirror_mode": {
    "name": "ipython",
    "version": 3
   },
   "file_extension": ".py",
   "mimetype": "text/x-python",
   "name": "python",
   "nbconvert_exporter": "python",
   "pygments_lexer": "ipython3",
   "version": "3.8.5"
  }
 },
 "nbformat": 4,
 "nbformat_minor": 4
}
