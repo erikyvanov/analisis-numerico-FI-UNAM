{
 "cells": [
  {
   "cell_type": "markdown",
   "metadata": {},
   "source": [
    "# Método de Newton-Raphson"
   ]
  },
  {
   "cell_type": "code",
   "execution_count": 1,
   "metadata": {},
   "outputs": [],
   "source": [
    "from sympy import *\n",
    "from sympy.abc import x\n",
    "\n",
    "from IPython.display import display"
   ]
  },
  {
   "cell_type": "code",
   "execution_count": 2,
   "metadata": {},
   "outputs": [
    {
     "data": {
      "text/latex": [
       "$\\displaystyle x^{3} - x^{2} \\cos{\\left(x \\right)} - 3 x$"
      ],
      "text/plain": [
       "x**3 - x**2*cos(x) - 3*x"
      ]
     },
     "metadata": {},
     "output_type": "display_data"
    },
    {
     "data": {
      "image/png": "[encoded data removed]",
      "text/plain": [
       "<Figure size 432x288 with 1 Axes>"
      ]
     },
     "metadata": {
      "needs_background": "light"
     },
     "output_type": "display_data"
    },
    {
     "data": {
      "text/latex": [
       "$\\displaystyle x^{2} \\sin{\\left(x \\right)} + 3 x^{2} - 2 x \\cos{\\left(x \\right)} - 3$"
      ],
      "text/plain": [
       "x**2*sin(x) + 3*x**2 - 2*x*cos(x) - 3"
      ]
     },
     "metadata": {},
     "output_type": "display_data"
    },
    {
     "data": {
      "text/latex": [
       "$\\displaystyle x^{2} \\cos{\\left(x \\right)} + 4 x \\sin{\\left(x \\right)} + 6 x - 2 \\cos{\\left(x \\right)}$"
      ],
      "text/plain": [
       "x**2*cos(x) + 4*x*sin(x) + 6*x - 2*cos(x)"
      ]
     },
     "metadata": {},
     "output_type": "display_data"
    }
   ],
   "source": [
    "f = x**3 - x**2*cos(x) - 3*x\n",
    "display(f)\n",
    "\n",
    "p = - 1.5\n",
    "tol = 1*10**-8\n",
    "iterations = 10000\n",
    "\n",
    "plot(f, (x, p-2, p+2), ylim=(-5, 5))\n",
    "\n",
    "g = f.diff(x)\n",
    "display(g)\n",
    "\n",
    "h = f.diff(x, 2)\n",
    "display(h)"
   ]
  },
  {
   "cell_type": "code",
   "execution_count": 3,
   "metadata": {},
   "outputs": [
    {
     "name": "stdout",
     "output_type": "stream",
     "text": [
      "     n           p         Error    \n",
      "     1      -1.50000000  0.56223913\n",
      "     2      -2.06223913  0.14195996\n",
      "     3      -1.92027917  0.01751669\n",
      "     4      -1.90276247  0.00023205\n",
      "     5      -1.90253043  0.00000004\n",
      "     6      -1.90253039  0.00000000\n",
      "\n",
      "La raiz es: -1.90253039\n"
     ]
    }
   ],
   "source": [
    "# Comprobamos el criterio de convergencia\n",
    "# g es la primera derivada de f\n",
    "# h es la segunda derivada de f\n",
    "very = abs( (f * h) / g**2 ).subs(x, p)\n",
    "\n",
    "# Si no se cumple el criterio de convergencia lanza un error indicando\n",
    "# que se tiene que cambiar el punto\n",
    "if not (very < 1):\n",
    "    raise ValueError('Cambia de punto')\n",
    "\n",
    "m = p\n",
    "print('{:^12}{:^12}{:^12}'.format('n', 'p', 'Error'))\n",
    "for i in range(iterations):\n",
    "    q = (p - f.subs(x, p) / g.subs(x, p)).evalf()\n",
    "    Erry = abs(m - q)\n",
    "    m = q\n",
    "    print(f'{i+1: ^12}{p:.8f}  {Erry:.8f}')\n",
    "    if Erry < tol:\n",
    "        print('\\nLa raiz es: %2.8f'%p)\n",
    "        break\n",
    "    else:\n",
    "        p = q"
   ]
  },
  {
   "cell_type": "code",
   "execution_count": null,
   "metadata": {},
   "outputs": [],
   "source": []
  }
 ],
 "metadata": {
  "kernelspec": {
   "display_name": "Python 3",
   "language": "python",
   "name": "python3"
  },
  "language_info": {
   "codemirror_mode": {
    "name": "ipython",
    "version": 3
   },
   "file_extension": ".py",
   "mimetype": "text/x-python",
   "name": "python",
   "nbconvert_exporter": "python",
   "pygments_lexer": "ipython3",
   "version": "3.8.5"
  }
 },
 "nbformat": 4,
 "nbformat_minor": 4
}
