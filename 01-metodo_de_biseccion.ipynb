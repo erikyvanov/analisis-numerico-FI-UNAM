{
 "cells": [
  {
   "cell_type": "markdown",
   "metadata": {},
   "source": [
    "# El método de bisección\n",
    "En este problema buscaremos una raíz en un intervalo de [a, b].\n",
    "\n",
    "## En python"
   ]
  },
  {
   "cell_type": "code",
   "execution_count": 6,
   "metadata": {},
   "outputs": [],
   "source": [
    "from sympy import *\n",
    "from sympy.abc import x\n",
    "\n",
    "init_printing()"
   ]
  },
  {
   "cell_type": "code",
   "execution_count": 7,
   "metadata": {},
   "outputs": [
    {
     "data": {
      "image/png": "[encoded data removed]",
      "text/latex": [
       "$\\displaystyle x^{3} - x^{2} \\cos{\\left(x \\right)} - 3 x$"
      ],
      "text/plain": [
       " 3    2             \n",
       "x  - x ⋅cos(x) - 3⋅x"
      ]
     },
     "execution_count": 7,
     "metadata": {},
     "output_type": "execute_result"
    }
   ],
   "source": [
    "f = x**3 - x**2*cos(x) - 3*x\n",
    "f"
   ]
  },
  {
   "cell_type": "code",
   "execution_count": 8,
   "metadata": {
    "scrolled": true
   },
   "outputs": [
    {
     "data": {
      "image/png": "[encoded data removed]",
      "text/plain": [
       "<Figure size 432x288 with 1 Axes>"
      ]
     },
     "metadata": {
      "needs_background": "light"
     },
     "output_type": "display_data"
    },
    {
     "data": {
      "text/plain": [
       "<sympy.plotting.plot.Plot at 0x1a13a1dd490>"
      ]
     },
     "execution_count": 8,
     "metadata": {},
     "output_type": "execute_result"
    }
   ],
   "source": [
    "plot(f, (x, -3, 3))\n"
   ]
  },
  {
   "cell_type": "code",
   "execution_count": 10,
   "metadata": {},
   "outputs": [],
   "source": [
    "a = 1\n",
    "b = 2\n",
    "iterations = 1000\n",
    "tol = 1*10**-8\n",
    "p = 0"
   ]
  },
  {
   "cell_type": "code",
   "execution_count": 11,
   "metadata": {},
   "outputs": [
    {
     "name": "stdout",
     "output_type": "stream",
     "text": [
      "     n           a           b           p         Error    \n",
      "     1      1.00000000  2.00000000  1.50000000  0.50000000\n",
      "     2      1.50000000  2.00000000  1.75000000  0.25000000\n",
      "     3      1.50000000  1.75000000  1.62500000  0.12500000\n",
      "     4      1.62500000  1.75000000  1.68750000  0.06250000\n",
      "     5      1.62500000  1.68750000  1.65625000  0.03125000\n",
      "     6      1.65625000  1.68750000  1.67187500  0.01562500\n",
      "     7      1.67187500  1.68750000  1.67968750  0.00781250\n",
      "     8      1.67187500  1.67968750  1.67578125  0.00390625\n",
      "     9      1.67578125  1.67968750  1.67773438  0.00195312\n",
      "     10     1.67773438  1.67968750  1.67871094  0.00097656\n",
      "     11     1.67871094  1.67968750  1.67919922  0.00048828\n",
      "     12     1.67871094  1.67919922  1.67895508  0.00024414\n",
      "     13     1.67871094  1.67895508  1.67883301  0.00012207\n",
      "     14     1.67883301  1.67895508  1.67889404  0.00006104\n",
      "     15     1.67889404  1.67895508  1.67892456  0.00003052\n",
      "     16     1.67892456  1.67895508  1.67893982  0.00001526\n",
      "     17     1.67892456  1.67893982  1.67893219  0.00000763\n",
      "     18     1.67892456  1.67893219  1.67892838  0.00000381\n",
      "     19     1.67892838  1.67893219  1.67893028  0.00000191\n",
      "     20     1.67892838  1.67893028  1.67892933  0.00000095\n",
      "     21     1.67892933  1.67893028  1.67892981  0.00000048\n",
      "     22     1.67892933  1.67892981  1.67892957  0.00000024\n",
      "     23     1.67892957  1.67892981  1.67892969  0.00000012\n",
      "     24     1.67892969  1.67892981  1.67892975  0.00000006\n",
      "     25     1.67892975  1.67892981  1.67892978  0.00000003\n",
      "     26     1.67892975  1.67892978  1.67892976  0.00000001\n",
      "     27     1.67892976  1.67892978  1.67892977  0.00000001\n",
      "\n",
      "La raiz es 1.67892977\n"
     ]
    }
   ],
   "source": [
    "if f.subs(x, a)*f.subs(x, b) > 0 :\n",
    "    raise ValueError('Elija otro intervalo')\n",
    "\n",
    "print('{:^12}{:^12}{:^12}{:^12}{:^12}'.format('n', 'a', 'b', 'p', 'Error'))\n",
    "for n in range(iterations):\n",
    "    p = (a + b)/2\n",
    "    err = abs(a - p)\n",
    "    print(f'{n+1: ^12}{a:.8f}  {b:.8f}  {p:.8f}  {err:.8f}')\n",
    "    if err < tol:\n",
    "        print('\\nLa raiz es %0.8f'%p)\n",
    "        break\n",
    "    else:\n",
    "        if (f.subs(x, a)*f.subs(x, p)) > 0:\n",
    "            a = p\n",
    "        else:\n",
    "            b = p\n",
    "    "
   ]
  },
  {
   "cell_type": "code",
   "execution_count": null,
   "metadata": {},
   "outputs": [],
   "source": []
  }
 ],
 "metadata": {
  "kernelspec": {
   "display_name": "Python 3",
   "language": "python",
   "name": "python3"
  },
  "language_info": {
   "codemirror_mode": {
    "name": "ipython",
    "version": 3
   },
   "file_extension": ".py",
   "mimetype": "text/x-python",
   "name": "python",
   "nbconvert_exporter": "python",
   "pygments_lexer": "ipython3",
   "version": "3.8.5"
  }
 },
 "nbformat": 4,
 "nbformat_minor": 4
}
