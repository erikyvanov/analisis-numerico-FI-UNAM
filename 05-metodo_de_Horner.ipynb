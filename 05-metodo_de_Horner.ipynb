{
 "cells": [
  {
   "cell_type": "markdown",
   "metadata": {},
   "source": [
    "# Método de Horner"
   ]
  },
  {
   "cell_type": "code",
   "execution_count": 1,
   "metadata": {},
   "outputs": [],
   "source": [
    "from sympy import *\n",
    "from sympy.abc import x\n",
    "\n",
    "from IPython.display import display, Math\n",
    "init_printing()\n",
    "\n",
    "def imprimir_coeficientes(nombre, valores):\n",
    "    for idx, v in valores.items():\n",
    "        display(Math(r'{}_{} = {}'.format(nombre, idx, v)))"
   ]
  },
  {
   "cell_type": "code",
   "execution_count": 2,
   "metadata": {},
   "outputs": [
    {
     "data": {
      "image/png": "[encoded data removed]",
      "text/latex": [
       "$\\displaystyle x^{3} + 7 x^{2} - 8 x + 2$"
      ],
      "text/plain": [
       " 3      2          \n",
       "x  + 7⋅x  - 8⋅x + 2"
      ]
     },
     "metadata": {},
     "output_type": "display_data"
    },
    {
     "data": {
      "image/png": "[encoded data removed]",
      "text/latex": [
       "$\\displaystyle 3$"
      ],
      "text/plain": [
       "3"
      ]
     },
     "metadata": {},
     "output_type": "display_data"
    }
   ],
   "source": [
    "f = x**3 + 7*x**2 - 8*x + 2\n",
    "display(f)\n",
    "n = degree(f)\n",
    "display(n)\n",
    "\n",
    "\n",
    "tol = 1*10**-8\n",
    "# Valor con el que voy a empezar\n",
    "# Con el que se va a hacer la division sintetica\n",
    "r = -13 + 5j\n",
    "iterations = 10000"
   ]
  },
  {
   "cell_type": "code",
   "execution_count": 3,
   "metadata": {},
   "outputs": [
    {
     "data": {
      "text/latex": [
       "$\\displaystyle a_0 = 2$"
      ],
      "text/plain": [
       "<IPython.core.display.Math object>"
      ]
     },
     "metadata": {},
     "output_type": "display_data"
    },
    {
     "data": {
      "text/latex": [
       "$\\displaystyle a_1 = -8$"
      ],
      "text/plain": [
       "<IPython.core.display.Math object>"
      ]
     },
     "metadata": {},
     "output_type": "display_data"
    },
    {
     "data": {
      "text/latex": [
       "$\\displaystyle a_2 = 7$"
      ],
      "text/plain": [
       "<IPython.core.display.Math object>"
      ]
     },
     "metadata": {},
     "output_type": "display_data"
    },
    {
     "data": {
      "text/latex": [
       "$\\displaystyle a_3 = 1$"
      ],
      "text/plain": [
       "<IPython.core.display.Math object>"
      ]
     },
     "metadata": {},
     "output_type": "display_data"
    }
   ],
   "source": [
    "# Generar division sitetica\n",
    "a = {}\n",
    "for i in range(n+1):\n",
    "    a[i] = f.coeff(x, n=i)\n",
    "imprimir_coeficientes('a', a)"
   ]
  },
  {
   "cell_type": "code",
   "execution_count": 4,
   "metadata": {},
   "outputs": [
    {
     "name": "stdout",
     "output_type": "stream",
     "text": [
      "La raiz es: -8.02759766 + 0.00000000i\n"
     ]
    }
   ],
   "source": [
    "for _ in range(iterations):\n",
    "    b = {}\n",
    "    c = {}\n",
    "\n",
    "    b[n] = a[n]\n",
    "    c[n] = b[n]\n",
    "    for i in range(n-1, -1, -1):\n",
    "        b[i] = b[i+1]*r + a[i]\n",
    "        c[i] = c[i+1]*r + b[i]\n",
    "\n",
    "#     imprimir_coeficientes('b', b)\n",
    "#     imprimir_coeficientes('c', c)\n",
    "\n",
    "    p = (r - b[0] / c[1]).evalf()\n",
    "    Erry = abs(r - p)\n",
    "    if Erry < tol:\n",
    "        print('La raiz es: %2.8f + %2.8fi'%(re(p), im(p)))\n",
    "        break\n",
    "    else:\n",
    "        r = p"
   ]
  },
  {
   "cell_type": "code",
   "execution_count": 5,
   "metadata": {
    "scrolled": true
   },
   "outputs": [
    {
     "data": {
      "image/png": "[encoded data removed]",
      "text/latex": [
       "$\\displaystyle 0.391943595544951 + 3.0 \\cdot 10^{-20} i$"
      ],
      "text/plain": [
       "0.391943595544951 + 0.e-20⋅ⅈ"
      ]
     },
     "metadata": {},
     "output_type": "display_data"
    },
    {
     "data": {
      "image/png": "[encoded data removed]",
      "text/latex": [
       "$\\displaystyle 0.635654060842987 + 3.0 \\cdot 10^{-20} i$"
      ],
      "text/plain": [
       "0.635654060842987 + 0.e-20⋅ⅈ"
      ]
     },
     "metadata": {},
     "output_type": "display_data"
    },
    {
     "data": {
      "image/png": "[encoded data removed]",
      "text/latex": [
       "$\\displaystyle -8.02759765638794 + 8.0 \\cdot 10^{-22} i$"
      ],
      "text/plain": [
       "-8.02759765638794 + 0.e-21⋅ⅈ"
      ]
     },
     "metadata": {},
     "output_type": "display_data"
    }
   ],
   "source": [
    "for i in solve(f):\n",
    "    display(i.evalf())"
   ]
  },
  {
   "cell_type": "code",
   "execution_count": null,
   "metadata": {},
   "outputs": [],
   "source": []
  }
 ],
 "metadata": {
  "kernelspec": {
   "display_name": "Python 3",
   "language": "python",
   "name": "python3"
  },
  "language_info": {
   "codemirror_mode": {
    "name": "ipython",
    "version": 3
   },
   "file_extension": ".py",
   "mimetype": "text/x-python",
   "name": "python",
   "nbconvert_exporter": "python",
   "pygments_lexer": "ipython3",
   "version": "3.8.5"
  }
 },
 "nbformat": 4,
 "nbformat_minor": 4
}
