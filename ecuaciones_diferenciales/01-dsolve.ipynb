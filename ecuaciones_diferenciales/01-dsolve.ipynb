{
 "cells": [
  {
   "cell_type": "code",
   "execution_count": 2,
   "metadata": {},
   "outputs": [],
   "source": [
    "from sympy import dsolve, Function, cos, Eq\n",
    "from sympy.abc import w"
   ]
  },
  {
   "cell_type": "code",
   "execution_count": 4,
   "metadata": {},
   "outputs": [
    {
     "data": {
      "text/latex": [
       "$\\displaystyle 4 f{\\left(w \\right)} + \\frac{d}{d w} f{\\left(w \\right)} = \\cos{\\left(2 w \\right)}$"
      ],
      "text/plain": [
       "Eq(4*f(w) + Derivative(f(w), w), cos(2*w))"
      ]
     },
     "execution_count": 4,
     "metadata": {},
     "output_type": "execute_result"
    }
   ],
   "source": [
    "f = Function('f')\n",
    "\n",
    "ecu = Eq(f(w).diff(w) + 4*f(w), cos(2*w))\n",
    "ecu"
   ]
  },
  {
   "cell_type": "code",
   "execution_count": 7,
   "metadata": {},
   "outputs": [
    {
     "data": {
      "text/latex": [
       "$\\displaystyle f{\\left(w \\right)} = \\frac{\\sin{\\left(2 w \\right)}}{10} + \\frac{\\cos{\\left(2 w \\right)}}{5} + \\left(- \\frac{e^{12} \\cos{\\left(6 \\right)}}{5} - \\frac{e^{12} \\sin{\\left(6 \\right)}}{10} + 4 e^{12}\\right) e^{- 4 w}$"
      ],
      "text/plain": [
       "Eq(f(w), sin(2*w)/10 + cos(2*w)/5 + (-exp(12)*cos(6)/5 - exp(12)*sin(6)/10 + 4*exp(12))*exp(-4*w))"
      ]
     },
     "execution_count": 7,
     "metadata": {},
     "output_type": "execute_result"
    }
   ],
   "source": [
    "sol = dsolve(ecu, ics={f(3): 4})\n",
    "sol"
   ]
  },
  {
   "cell_type": "code",
   "execution_count": 8,
   "metadata": {},
   "outputs": [
    {
     "data": {
      "text/latex": [
       "$\\displaystyle f{\\left(w \\right)} = 0.1 \\sin{\\left(2 w \\right)} + 0.2 \\cos{\\left(2 w \\right)} + 624312.323842775 e^{- 4 w}$"
      ],
      "text/plain": [
       "Eq(f(w), 0.1*sin(2*w) + 0.2*cos(2*w) + 624312.323842775*exp(-4*w))"
      ]
     },
     "execution_count": 8,
     "metadata": {},
     "output_type": "execute_result"
    }
   ],
   "source": [
    "sol.evalf()"
   ]
  },
  {
   "cell_type": "code",
   "execution_count": null,
   "metadata": {},
   "outputs": [],
   "source": []
  }
 ],
 "metadata": {
  "interpreter": {
   "hash": "5dc98add9362633c78f256d17cf2fa232ed7c0ea4d489e75b6c174129bc88790"
  },
  "kernelspec": {
   "display_name": "Python 3.9.7 ('base')",
   "language": "python",
   "name": "python3"
  },
  "language_info": {
   "codemirror_mode": {
    "name": "ipython",
    "version": 3
   },
   "file_extension": ".py",
   "mimetype": "text/x-python",
   "name": "python",
   "nbconvert_exporter": "python",
   "pygments_lexer": "ipython3",
   "version": "3.9.7"
  },
  "orig_nbformat": 4
 },
 "nbformat": 4,
 "nbformat_minor": 2
}
