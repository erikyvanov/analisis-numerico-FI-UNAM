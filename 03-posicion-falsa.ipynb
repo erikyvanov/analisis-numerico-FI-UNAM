{
 "cells": [
  {
   "cell_type": "markdown",
   "metadata": {},
   "source": [
    "# Método de posición falsa"
   ]
  },
  {
   "cell_type": "code",
   "execution_count": 1,
   "metadata": {},
   "outputs": [],
   "source": [
    "from sympy import *\n",
    "from sympy.abc import x\n",
    "\n",
    "init_printing()"
   ]
  },
  {
   "cell_type": "code",
   "execution_count": 2,
   "metadata": {},
   "outputs": [
    {
     "data": {
      "image/png": "[encoded data removed]",
      "text/latex": [
       "$\\displaystyle x^{3} - x^{2} \\cos{\\left(x \\right)} - 3 x$"
      ],
      "text/plain": [
       " 3    2             \n",
       "x  - x ⋅cos(x) - 3⋅x"
      ]
     },
     "execution_count": 2,
     "metadata": {},
     "output_type": "execute_result"
    }
   ],
   "source": [
    "f = x**3 - x**2*cos(x) - 3*x\n",
    "f"
   ]
  },
  {
   "cell_type": "code",
   "execution_count": 3,
   "metadata": {},
   "outputs": [
    {
     "data": {
      "image/png": "[encoded data removed]",
      "text/plain": [
       "<Figure size 432x288 with 1 Axes>"
      ]
     },
     "metadata": {
      "needs_background": "light"
     },
     "output_type": "display_data"
    },
    {
     "data": {
      "text/plain": [
       "<sympy.plotting.plot.Plot at 0x212def4ef70>"
      ]
     },
     "execution_count": 3,
     "metadata": {},
     "output_type": "execute_result"
    }
   ],
   "source": [
    "plot(f, (x, -3, 3))"
   ]
  },
  {
   "cell_type": "code",
   "execution_count": 21,
   "metadata": {},
   "outputs": [],
   "source": [
    "a = -2\n",
    "b = -1\n",
    "iterations = 1000\n",
    "tol = 1*10**-8\n",
    "p = 0"
   ]
  },
  {
   "cell_type": "code",
   "execution_count": 22,
   "metadata": {},
   "outputs": [
    {
     "name": "stdout",
     "output_type": "stream",
     "text": [
      "     n           a           b           p         Error    \n",
      "     1      -2.00000000  -1.00000000  -1.81315207  0.18684793\n",
      "     2      -2.00000000  -1.81315207  -1.89607928  0.10392072\n",
      "     3      -2.00000000  -1.89607928  -1.90207264  0.09792736\n",
      "     4      -2.00000000  -1.90207264  -1.90249794  0.09750206\n",
      "     5      -2.00000000  -1.90249794  -1.90252809  0.09747191\n",
      "     6      -2.00000000  -1.90252809  -1.90253022  0.09746978\n",
      "     7      -2.00000000  -1.90253022  -1.90253037  0.09746963\n",
      "     8      -2.00000000  -1.90253037  -1.90253038  0.09746962\n",
      "     9      -2.00000000  -1.90253038  -1.90253038  0.09746962\n",
      "     10     -2.00000000  -1.90253038  -1.90253039  0.09746961\n",
      "     11     -2.00000000  -1.90253039  -1.90253039  0.09746961\n",
      "     12     -2.00000000  -1.90253039  -1.90253039  0.09746961\n",
      "     13     -2.00000000  -1.90253039  -1.90253039  0.09746961\n",
      "     14     -2.00000000  -1.90253039  -1.90253039  0.09746961\n",
      "     15     -2.00000000  -1.90253039  -1.90253039  0.09746961\n",
      "     16     -1.90253039  -1.90253039  -1.90253039  0.00000000\n",
      "\n",
      "La raiz es -1.90253039\n"
     ]
    }
   ],
   "source": [
    "if f.subs(x, a)*f.subs(x, b) > 0 :\n",
    "    raise ValueError('Elija otro intervalo')\n",
    "\n",
    "print('{:^12}{:^12}{:^12}{:^12}{:^12}'.format('n', 'a', 'b', 'p', 'Error'))\n",
    "for n in range(iterations):\n",
    "    p = (a - (f.subs(x, a) * (b - a))/(f.subs(x, b) - f.subs(x, a))).evalf()\n",
    "    err = abs(a - p)\n",
    "    print(f'{n+1: ^12}{a:.8f}  {b:.8f}  {p:.8f}  {float(err):.8f}')\n",
    "    if err < tol:\n",
    "        print('\\nLa raiz es %0.8f'%p)\n",
    "        break\n",
    "    else:\n",
    "        if (f.subs(x, a)*f.subs(x, p)) > 0:\n",
    "            a = p\n",
    "        else:\n",
    "            b = p\n",
    "    "
   ]
  },
  {
   "cell_type": "code",
   "execution_count": null,
   "metadata": {},
   "outputs": [],
   "source": []
  }
 ],
 "metadata": {
  "kernelspec": {
   "display_name": "Python 3",
   "language": "python",
   "name": "python3"
  },
  "language_info": {
   "codemirror_mode": {
    "name": "ipython",
    "version": 3
   },
   "file_extension": ".py",
   "mimetype": "text/x-python",
   "name": "python",
   "nbconvert_exporter": "python",
   "pygments_lexer": "ipython3",
   "version": "3.8.5"
  }
 },
 "nbformat": 4,
 "nbformat_minor": 4
}
