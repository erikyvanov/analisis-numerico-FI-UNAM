{
 "cells": [
  {
   "cell_type": "markdown",
   "metadata": {},
   "source": [
    "# Método de la Secante"
   ]
  },
  {
   "cell_type": "code",
   "execution_count": 1,
   "metadata": {},
   "outputs": [],
   "source": [
    "from sympy import *\n",
    "from sympy.abc import x\n",
    "\n",
    "init_printing()"
   ]
  },
  {
   "cell_type": "code",
   "execution_count": 2,
   "metadata": {},
   "outputs": [
    {
     "data": {
      "image/png": "[encoded data removed]",
      "text/latex": [
       "$\\displaystyle x^{3} - x^{2} \\cos{\\left(x \\right)} - 3 x$"
      ],
      "text/plain": [
       " 3    2             \n",
       "x  - x ⋅cos(x) - 3⋅x"
      ]
     },
     "execution_count": 2,
     "metadata": {},
     "output_type": "execute_result"
    }
   ],
   "source": [
    "f = x**3 - x**2*cos(x) - 3*x\n",
    "f"
   ]
  },
  {
   "cell_type": "code",
   "execution_count": 3,
   "metadata": {},
   "outputs": [
    {
     "data": {
      "image/png": "[encoded data removed]",
      "text/plain": [
       "<Figure size 432x288 with 1 Axes>"
      ]
     },
     "metadata": {
      "needs_background": "light"
     },
     "output_type": "display_data"
    },
    {
     "data": {
      "text/plain": [
       "<sympy.plotting.plot.Plot at 0x24837d99c70>"
      ]
     },
     "execution_count": 3,
     "metadata": {},
     "output_type": "execute_result"
    }
   ],
   "source": [
    "plot(f, (x, -3, 3))"
   ]
  },
  {
   "cell_type": "code",
   "execution_count": 4,
   "metadata": {},
   "outputs": [],
   "source": [
    "a = -2\n",
    "b = -1\n",
    "iterations = 1000\n",
    "tol = 1*10**-8\n",
    "p = 0"
   ]
  },
  {
   "cell_type": "code",
   "execution_count": 5,
   "metadata": {},
   "outputs": [
    {
     "name": "stdout",
     "output_type": "stream",
     "text": [
      "     n           a           b           p         Error    \n",
      "     1      -2.00000000  -1.00000000  -1.81315207  0.18684793\n",
      "     2      -1.00000000  -1.81315207  -1.99573245  0.99573245\n",
      "     3      -1.81315207  -1.99573245  -1.89635573  0.08320367\n",
      "     4      -1.99573245  -1.89635573  -1.90211108  0.09362137\n",
      "     5      -1.89635573  -1.90211108  -1.90253231  0.00617658\n",
      "     6      -1.90211108  -1.90253231  -1.90253038  0.00041930\n",
      "     7      -1.90253231  -1.90253038  -1.90253039  0.00000192\n",
      "     8      -1.90253038  -1.90253039  -1.90253039  0.00000000\n",
      "\n",
      "La raiz es -1.90253039\n"
     ]
    }
   ],
   "source": [
    "if f.subs(x, a)*f.subs(x, b) > 0 :\n",
    "    raise ValueError('Elija otro intervalo')\n",
    "\n",
    "print('{:^12}{:^12}{:^12}{:^12}{:^12}'.format('n', 'a', 'b', 'p', 'Error'))\n",
    "for n in range(iterations):\n",
    "    p = (a - (f.subs(x, a) * (b - a))/(f.subs(x, b) - f.subs(x, a))).evalf()\n",
    "    err = abs(a - p)\n",
    "    print(f'{n+1: ^12}{a:.8f}  {b:.8f}  {p:.8f}  {err:.8f}')\n",
    "    if err < tol:\n",
    "        print('\\nLa raiz es %0.8f'%p)\n",
    "        break\n",
    "    else:\n",
    "        a = b\n",
    "        b = p\n",
    "    "
   ]
  },
  {
   "cell_type": "code",
   "execution_count": null,
   "metadata": {},
   "outputs": [],
   "source": []
  }
 ],
 "metadata": {
  "kernelspec": {
   "display_name": "Python 3",
   "language": "python",
   "name": "python3"
  },
  "language_info": {
   "codemirror_mode": {
    "name": "ipython",
    "version": 3
   },
   "file_extension": ".py",
   "mimetype": "text/x-python",
   "name": "python",
   "nbconvert_exporter": "python",
   "pygments_lexer": "ipython3",
   "version": "3.8.5"
  }
 },
 "nbformat": 4,
 "nbformat_minor": 4
}
