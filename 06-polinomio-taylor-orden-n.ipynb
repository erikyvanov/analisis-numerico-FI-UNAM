{
 "cells": [
  {
   "cell_type": "markdown",
   "metadata": {},
   "source": [
    "# Proyecto 3\n",
    "## Método de Taylor orden n\n",
    "### Erik Ivanov Domínguez Rivera"
   ]
  },
  {
   "cell_type": "code",
   "execution_count": 1,
   "metadata": {},
   "outputs": [],
   "source": [
    "from sympy import factorial\n",
    "from sympy.abc import y, t, h"
   ]
  },
  {
   "cell_type": "code",
   "execution_count": 2,
   "metadata": {},
   "outputs": [
    {
     "data": {
      "text/latex": [
       "$\\displaystyle 3 t^{3} - y$"
      ],
      "text/plain": [
       "3*t**3 - y"
      ]
     },
     "execution_count": 2,
     "metadata": {},
     "output_type": "execute_result"
    }
   ],
   "source": [
    "f = 3*t**3 - y\n",
    "f"
   ]
  },
  {
   "cell_type": "code",
   "execution_count": 3,
   "metadata": {},
   "outputs": [],
   "source": [
    "# Orden\n",
    "n = 3"
   ]
  },
  {
   "cell_type": "code",
   "execution_count": 4,
   "metadata": {},
   "outputs": [
    {
     "data": {
      "text/latex": [
       "$\\displaystyle \\frac{h^{3} \\left(3 t^{3} - 9 t^{2} + 18 t - y\\right)}{6} + \\frac{h^{2} \\left(- 3 t^{3} + 9 t^{2} + y\\right)}{2} + h \\left(3 t^{3} - y\\right)$"
      ],
      "text/plain": [
       "h**3*(3*t**3 - 9*t**2 + 18*t - y)/6 + h**2*(-3*t**3 + 9*t**2 + y)/2 + h*(3*t**3 - y)"
      ]
     },
     "execution_count": 4,
     "metadata": {},
     "output_type": "execute_result"
    }
   ],
   "source": [
    "TAYLOR = h*f\n",
    "f_aux = f\n",
    "for i in range(1, n):\n",
    "    f_aux = f_aux.diff(t) + f_aux.diff(y) * f\n",
    "    TAYLOR += ((h**(i+1))/factorial(i+1)) * f_aux\n",
    "\n",
    "TAYLOR"
   ]
  },
  {
   "cell_type": "code",
   "execution_count": null,
   "metadata": {},
   "outputs": [],
   "source": []
  }
 ],
 "metadata": {
  "interpreter": {
   "hash": "5dc98add9362633c78f256d17cf2fa232ed7c0ea4d489e75b6c174129bc88790"
  },
  "kernelspec": {
   "display_name": "Python 3.9.7 ('base')",
   "language": "python",
   "name": "python3"
  },
  "language_info": {
   "codemirror_mode": {
    "name": "ipython",
    "version": 3
   },
   "file_extension": ".py",
   "mimetype": "text/x-python",
   "name": "python",
   "nbconvert_exporter": "python",
   "pygments_lexer": "ipython3",
   "version": "3.9.7"
  },
  "orig_nbformat": 4
 },
 "nbformat": 4,
 "nbformat_minor": 2
}
