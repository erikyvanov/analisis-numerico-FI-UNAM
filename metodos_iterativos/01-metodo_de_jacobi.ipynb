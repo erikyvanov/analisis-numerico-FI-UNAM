{
 "cells": [
  {
   "cell_type": "markdown",
   "metadata": {},
   "source": [
    "# Metodo de Jacobi\n",
    "Necesita que tengan diagonal principal dominante"
   ]
  },
  {
   "cell_type": "code",
   "execution_count": 31,
   "metadata": {},
   "outputs": [],
   "source": [
    "from sympy import Matrix, Abs, Symbol, Eq, solve"
   ]
  },
  {
   "cell_type": "code",
   "execution_count": 13,
   "metadata": {},
   "outputs": [
    {
     "data": {
      "text/plain": [
       "[x0, x1, x2]"
      ]
     },
     "execution_count": 13,
     "metadata": {},
     "output_type": "execute_result"
    }
   ],
   "source": [
    "xs = [Symbol(f'x{i}') for i in range(3)]\n",
    "xs"
   ]
  },
  {
   "cell_type": "code",
   "execution_count": 2,
   "metadata": {},
   "outputs": [
    {
     "data": {
      "text/latex": [
       "$\\displaystyle \\left[\\begin{matrix}7 & 14 & 3\\\\24 & 1 & 5\\\\-50 & 3 & -3\\end{matrix}\\right]$"
      ],
      "text/plain": [
       "Matrix([\n",
       "[  7, 14,  3],\n",
       "[ 24,  1,  5],\n",
       "[-50,  3, -3]])"
      ]
     },
     "execution_count": 2,
     "metadata": {},
     "output_type": "execute_result"
    }
   ],
   "source": [
    "A = Matrix([[7, 14, 3], [24, 1, 5], [-50, 3, -3]])\n",
    "A"
   ]
  },
  {
   "cell_type": "code",
   "execution_count": 3,
   "metadata": {},
   "outputs": [
    {
     "data": {
      "text/latex": [
       "$\\displaystyle \\left[\\begin{matrix}-21\\\\14\\\\-1\\end{matrix}\\right]$"
      ],
      "text/plain": [
       "Matrix([\n",
       "[-21],\n",
       "[ 14],\n",
       "[ -1]])"
      ]
     },
     "execution_count": 3,
     "metadata": {},
     "output_type": "execute_result"
    }
   ],
   "source": [
    "b = Matrix([-21, 14, -1])\n",
    "b"
   ]
  },
  {
   "cell_type": "code",
   "execution_count": 4,
   "metadata": {},
   "outputs": [
    {
     "data": {
      "text/latex": [
       "$\\displaystyle \\left[\\begin{matrix}7 & 14 & 3 & -21\\\\24 & 1 & 5 & 14\\\\-50 & 3 & -3 & -1\\end{matrix}\\right]$"
      ],
      "text/plain": [
       "Matrix([\n",
       "[  7, 14,  3, -21],\n",
       "[ 24,  1,  5,  14],\n",
       "[-50,  3, -3,  -1]])"
      ]
     },
     "execution_count": 4,
     "metadata": {},
     "output_type": "execute_result"
    }
   ],
   "source": [
    "B = A.col_insert(3, b)\n",
    "B"
   ]
  },
  {
   "cell_type": "code",
   "execution_count": 5,
   "metadata": {},
   "outputs": [],
   "source": [
    "def pasar_a_diagonal_dominante(matrix: Matrix):\n",
    "    m = matrix.copy()\n",
    "    n = matrix.shape[0]\n",
    "    for i in range(n):\n",
    "        maxy = m[i, i]\n",
    "        for j in range(n):\n",
    "            if Abs(maxy) < Abs(m[i, j]):\n",
    "                m.row_swap(i, j)\n",
    "\n",
    "    return m"
   ]
  },
  {
   "cell_type": "code",
   "execution_count": 6,
   "metadata": {},
   "outputs": [
    {
     "data": {
      "text/latex": [
       "$\\displaystyle \\left[\\begin{matrix}-50 & 3 & -3 & -1\\\\7 & 14 & 3 & -21\\\\24 & 1 & 5 & 14\\end{matrix}\\right]$"
      ],
      "text/plain": [
       "Matrix([\n",
       "[-50,  3, -3,  -1],\n",
       "[  7, 14,  3, -21],\n",
       "[ 24,  1,  5,  14]])"
      ]
     },
     "execution_count": 6,
     "metadata": {},
     "output_type": "execute_result"
    }
   ],
   "source": [
    "B = pasar_a_diagonal_dominante(B)\n",
    "B"
   ]
  },
  {
   "cell_type": "code",
   "execution_count": 20,
   "metadata": {},
   "outputs": [],
   "source": [
    "def convertir_matriz_a_ecuaciones(m: Matrix):\n",
    "    ecus = []\n",
    "    for i in range(m.shape[0]):\n",
    "        ecu = 0\n",
    "        for j in range(m.shape[1] - 1):\n",
    "            ecu += m[i, j] * xs[j]\n",
    "        \n",
    "        ecus.append(Eq(ecu, m.row(i)[-1]))\n",
    "\n",
    "    return ecus"
   ]
  },
  {
   "cell_type": "code",
   "execution_count": 21,
   "metadata": {},
   "outputs": [
    {
     "data": {
      "text/plain": [
       "[Eq(-50*x0 + 3*x1 - 3*x2, -1),\n",
       " Eq(7*x0 + 14*x1 + 3*x2, -21),\n",
       " Eq(24*x0 + x1 + 5*x2, 14)]"
      ]
     },
     "execution_count": 21,
     "metadata": {},
     "output_type": "execute_result"
    }
   ],
   "source": [
    "ecus = convertir_matriz_a_ecuaciones(B)\n",
    "ecus"
   ]
  },
  {
   "cell_type": "code",
   "execution_count": 33,
   "metadata": {},
   "outputs": [
    {
     "data": {
      "text/plain": [
       "[3*x1/50 - 3*x2/50 + 1/50, -x0/2 - 3*x2/14 - 3/2, -24*x0/5 - x1/5 + 14/5]"
      ]
     },
     "execution_count": 33,
     "metadata": {},
     "output_type": "execute_result"
    }
   ],
   "source": [
    "rs = [solve(ecus[i], xs[i])[0] for i in range(len(xs))]\n",
    "rs"
   ]
  },
  {
   "cell_type": "code",
   "execution_count": 34,
   "metadata": {},
   "outputs": [],
   "source": [
    "# clase 5 1:10"
   ]
  },
  {
   "cell_type": "code",
   "execution_count": null,
   "metadata": {},
   "outputs": [],
   "source": []
  }
 ],
 "metadata": {
  "interpreter": {
   "hash": "4ee8fccf1b91b16c3ceb7dad7504d1ede7c68a00d690c5afe8b46617fe103163"
  },
  "kernelspec": {
   "display_name": "Python 3.9.7 ('base')",
   "language": "python",
   "name": "python3"
  },
  "language_info": {
   "codemirror_mode": {
    "name": "ipython",
    "version": 3
   },
   "file_extension": ".py",
   "mimetype": "text/x-python",
   "name": "python",
   "nbconvert_exporter": "python",
   "pygments_lexer": "ipython3",
   "version": "3.9.7"
  },
  "orig_nbformat": 4
 },
 "nbformat": 4,
 "nbformat_minor": 2
}
